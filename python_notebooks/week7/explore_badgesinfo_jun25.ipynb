{
 "cells": [
  {
   "cell_type": "code",
   "execution_count": 4,
   "id": "ae2cda9f-7b01-4a61-bb46-fd96da72522c",
   "metadata": {},
   "outputs": [
    {
     "name": "stdout",
     "output_type": "stream",
     "text": [
      "🚀 Initializing Spark session...\n",
      "🔐 Configuring Spark to use AWS credentials...\n"
     ]
    }
   ],
   "source": [
    "from pyspark.sql import SparkSession\n",
    "from pyspark.sql.functions import concat_ws\n",
    "\n",
    "# Step 1: Initialize Spark Session with Hadoop-AWS connector\n",
    "print(\"🚀 Initializing Spark session...\")\n",
    "spark = SparkSession.builder \\\n",
    "    .appName(\"ConnectToS3\") \\\n",
    "    .config(\"spark.jars.packages\", \"org.apache.hadoop:hadoop-aws:3.3.1\") \\\n",
    "    .getOrCreate()\n",
    "\n",
    "# Step 2: Configure Spark to use s3a and AWS credentials\n",
    "print(\"🔐 Configuring Spark to use AWS credentials...\")\n",
    "hadoop_conf = spark._jsc.hadoopConfiguration()\n",
    "hadoop_conf.set(\"fs.s3a.impl\", \"org.apache.hadoop.fs.s3a.S3AFileSystem\")\n",
    "hadoop_conf.set(\"fs.s3a.aws.credentials.provider\", \"com.amazonaws.auth.profile.ProfileCredentialsProvider\")\n",
    "hadoop_conf.set(\"fs.s3a.endpoint\", \"s3.us-west-2.amazonaws.com\") "
   ]
  },
  {
   "cell_type": "code",
   "execution_count": 65,
   "id": "2a51b671-61e9-4243-b84f-f96e6fc33f97",
   "metadata": {},
   "outputs": [],
   "source": [
    "channel_name = \"esl_dota2\"\n",
    "chat_year = \"2025\""
   ]
  },
  {
   "cell_type": "code",
   "execution_count": 66,
   "id": "7fa6e4a6-331b-48af-b589-a2b3039f2457",
   "metadata": {},
   "outputs": [],
   "source": [
    "parquet_file_path = f\"s3a://twitch-emotes-analytics-project/data/gold/{channel_name}/{chat_year}/all_data_parquet\""
   ]
  },
  {
   "cell_type": "code",
   "execution_count": 67,
   "id": "8ec5d91d-32a7-4e6f-9c8f-d114fd658808",
   "metadata": {},
   "outputs": [
    {
     "name": "stderr",
     "output_type": "stream",
     "text": [
      "                                                                                \r"
     ]
    }
   ],
   "source": [
    "df = spark.read.parquet(parquet_file_path)"
   ]
  },
  {
   "cell_type": "code",
   "execution_count": 68,
   "id": "7cda423d-dd1f-4c58-9276-7551e52dec4a",
   "metadata": {},
   "outputs": [],
   "source": [
    "cols_to_select = [\"i_username\", \"t_timestamp\", \"i_badge_names\", \"i_badge_titles\", \"i_badge_versions\"]"
   ]
  },
  {
   "cell_type": "code",
   "execution_count": 69,
   "id": "195cf42a-2d06-4707-82ea-decccdac6d2d",
   "metadata": {},
   "outputs": [],
   "source": [
    "badge_info = df.select(cols_to_select)"
   ]
  },
  {
   "cell_type": "code",
   "execution_count": 70,
   "id": "e947e062-3a4f-42de-bffe-b56c75fe6b8c",
   "metadata": {},
   "outputs": [],
   "source": [
    "from pyspark.sql.functions import explode, size"
   ]
  },
  {
   "cell_type": "code",
   "execution_count": 71,
   "id": "2079eb33-98a0-41ac-8224-89c6cf0c065c",
   "metadata": {},
   "outputs": [],
   "source": [
    "badge_info_with_count = badge_info.withColumn(\"badges_count\", size(\"i_badge_names\"))"
   ]
  },
  {
   "cell_type": "code",
   "execution_count": 72,
   "id": "5b3b31bf-2cfb-4b96-a060-0e6d93fb5395",
   "metadata": {},
   "outputs": [
    {
     "name": "stdout",
     "output_type": "stream",
     "text": [
      "root\n",
      " |-- i_username: string (nullable = true)\n",
      " |-- t_timestamp: timestamp (nullable = true)\n",
      " |-- i_badge_names: array (nullable = true)\n",
      " |    |-- element: string (containsNull = true)\n",
      " |-- i_badge_titles: array (nullable = true)\n",
      " |    |-- element: string (containsNull = true)\n",
      " |-- i_badge_versions: array (nullable = true)\n",
      " |    |-- element: string (containsNull = true)\n",
      " |-- badges_count: integer (nullable = false)\n",
      "\n"
     ]
    }
   ],
   "source": [
    "badge_info_with_count.printSchema()"
   ]
  },
  {
   "cell_type": "code",
   "execution_count": 78,
   "id": "4ce2c647-4690-4cfe-b973-e4675442ea06",
   "metadata": {},
   "outputs": [
    {
     "name": "stderr",
     "output_type": "stream",
     "text": [
      "[Stage 83:>                                                         (0 + 1) / 1]\r"
     ]
    },
    {
     "name": "stdout",
     "output_type": "stream",
     "text": [
      "+-------------------+--------------------+--------------------+--------------------+----------------+------------+\n",
      "|         i_username|         t_timestamp|       i_badge_names|      i_badge_titles|i_badge_versions|badges_count|\n",
      "+-------------------+--------------------+--------------------+--------------------+----------------+------------+\n",
      "|            ch1ll1e|2025-03-02 11:01:...|           [moments]|[Moments Badge - ...|             [2]|           1|\n",
      "|         yaboku1212|2025-03-02 11:02:...|           [moments]|[Moments Badge - ...|             [1]|           1|\n",
      "|          the69joke|2025-03-02 11:02:...|           [moments]|[Moments Badge - ...|             [2]|           1|\n",
      "|             moobot|2025-03-02 11:03:...|[moderator, partner]|[Moderator, Verif...|          [1, 1]|           2|\n",
      "|             moobot|2025-03-02 11:03:...|[moderator, partner]|[Moderator, Verif...|          [1, 1]|           2|\n",
      "|           luistadi|2025-03-02 11:03:...|                NULL|                NULL|            NULL|          -1|\n",
      "|           luistadi|2025-03-02 11:03:...|                NULL|                NULL|            NULL|          -1|\n",
      "|           luistadi|2025-03-02 11:03:...|                NULL|                NULL|            NULL|          -1|\n",
      "|           luistadi|2025-03-02 11:03:...|                NULL|                NULL|            NULL|          -1|\n",
      "|         yaboku1212|2025-03-02 11:06:...|           [moments]|[Moments Badge - ...|             [1]|           1|\n",
      "|       ggluckyducky|2025-03-02 11:06:...| [twitch_recap_2023]| [Twitch Recap 2023]|             [1]|           1|\n",
      "|      strangercatt0|2025-03-02 11:07:...|           [moments]|[Moments Badge - ...|             [1]|           1|\n",
      "|           arkaius1|2025-03-02 11:07:...|           [moments]|[Moments Badge - ...|             [1]|           1|\n",
      "|         skipper_iv|2025-03-02 11:08:...|                NULL|                NULL|            NULL|          -1|\n",
      "|       puppeychulo1|2025-03-02 11:09:...|                NULL|                NULL|            NULL|          -1|\n",
      "|         yaboku1212|2025-03-02 11:09:...|           [moments]|[Moments Badge - ...|             [1]|           1|\n",
      "|         yaboku1212|2025-03-02 11:09:...|           [moments]|[Moments Badge - ...|             [1]|           1|\n",
      "|             dukorn|2025-03-02 11:09:...|           [moments]|[Moments Badge - ...|             [1]|           1|\n",
      "|          myrddrall|2025-03-02 11:09:...|  [raging_wolf_helm]|  [Raging Wolf Helm]|             [1]|           1|\n",
      "|       puppeychulo1|2025-03-02 11:10:...|                NULL|                NULL|            NULL|          -1|\n",
      "|       puppeychulo1|2025-03-02 11:10:...|                NULL|                NULL|            NULL|          -1|\n",
      "|           wosiu111|2025-03-02 11:10:...|       [glhf_pledge]|       [GLHF Pledge]|             [1]|           1|\n",
      "|           wosiu111|2025-03-02 11:10:...|       [glhf_pledge]|       [GLHF Pledge]|             [1]|           1|\n",
      "|           wosiu111|2025-03-02 11:10:...|       [glhf_pledge]|       [GLHF Pledge]|             [1]|           1|\n",
      "|           wosiu111|2025-03-02 11:10:...|       [glhf_pledge]|       [GLHF Pledge]|             [1]|           1|\n",
      "|           wosiu111|2025-03-02 11:10:...|       [glhf_pledge]|       [GLHF Pledge]|             [1]|           1|\n",
      "|           wosiu111|2025-03-02 11:10:...|       [glhf_pledge]|       [GLHF Pledge]|             [1]|           1|\n",
      "|           wosiu111|2025-03-02 11:10:...|       [glhf_pledge]|       [GLHF Pledge]|             [1]|           1|\n",
      "|           wosiu111|2025-03-02 11:10:...|       [glhf_pledge]|       [GLHF Pledge]|             [1]|           1|\n",
      "|          klotklot9|2025-03-02 11:10:...|           [moments]|[Moments Badge - ...|             [1]|           1|\n",
      "|            baeissa|2025-03-02 11:10:...|    [share_the_love]|    [Share the Love]|             [1]|           1|\n",
      "|             saca__|2025-03-02 11:11:...|                NULL|                NULL|            NULL|          -1|\n",
      "|          klotklot9|2025-03-02 11:11:...|           [premium]|      [Prime Gaming]|             [1]|           1|\n",
      "|         yaboku1212|2025-03-02 11:12:...|           [moments]|[Moments Badge - ...|             [1]|           1|\n",
      "|         siapasihlo|2025-03-02 11:13:...|                NULL|                NULL|            NULL|          -1|\n",
      "|         siapasihlo|2025-03-02 11:13:...|                NULL|                NULL|            NULL|          -1|\n",
      "|         siapasihlo|2025-03-02 11:13:...|                NULL|                NULL|            NULL|          -1|\n",
      "|         spielkint_|2025-03-02 11:13:...|           [moments]|[Moments Badge - ...|             [2]|           1|\n",
      "|          myrddrall|2025-03-02 11:14:...|  [raging_wolf_helm]|  [Raging Wolf Helm]|             [1]|           1|\n",
      "|          juiceman4|2025-03-02 11:14:...|           [moments]|[Moments Badge - ...|             [1]|           1|\n",
      "|            baeissa|2025-03-02 11:14:...|    [share_the_love]|    [Share the Love]|             [1]|           1|\n",
      "|            baeissa|2025-03-02 11:15:...|    [share_the_love]|    [Share the Love]|             [1]|           1|\n",
      "|             dukorn|2025-03-02 11:16:...|           [moments]|[Moments Badge - ...|             [1]|           1|\n",
      "|            koiebee|2025-03-02 11:16:...|          [no_video]|    [Listening only]|             [1]|           1|\n",
      "|            koiebee|2025-03-02 11:16:...|          [no_video]|    [Listening only]|             [1]|           1|\n",
      "|         shiverwarp|2025-03-02 11:18:...|           [moments]|[Moments Badge - ...|             [2]|           1|\n",
      "|           bloomych|2025-03-02 11:19:...|[destiny_2_final_...|[Destiny 2: The F...|             [1]|           1|\n",
      "|         dotabuff__|2025-03-02 11:19:...|                NULL|                NULL|            NULL|          -1|\n",
      "|         intruderdg|2025-03-02 11:23:...|           [moments]|[Moments Badge - ...|             [1]|           1|\n",
      "|    tommyflagga1990|2025-03-02 11:24:...|           [moments]|[Moments Badge - ...|             [1]|           1|\n",
      "|            koiebee|2025-03-02 11:25:...|          [no_video]|    [Listening only]|             [1]|           1|\n",
      "|        spyjetfayed|2025-03-02 11:25:...|                NULL|                NULL|            NULL|          -1|\n",
      "|             yasson|2025-03-02 11:25:...|           [moments]|[Moments Badge - ...|             [1]|           1|\n",
      "|        kinkyw1zard|2025-03-02 11:26:...|           [moments]|[Moments Badge - ...|             [2]|           1|\n",
      "|         konaharuhi|2025-03-02 11:28:...|           [moments]|[Moments Badge - ...|             [1]|           1|\n",
      "|           sewtalla|2025-03-02 11:29:...|           [moments]|[Moments Badge - ...|             [2]|           1|\n",
      "|          klotklot9|2025-03-02 11:29:...|           [premium]|      [Prime Gaming]|             [1]|           1|\n",
      "|         thischatis|2025-03-02 11:29:...|                NULL|                NULL|            NULL|          -1|\n",
      "|          destromon|2025-03-02 11:30:...|                NULL|                NULL|            NULL|          -1|\n",
      "|         ch1cken777|2025-03-02 11:30:...|    [share_the_love]|    [Share the Love]|             [1]|           1|\n",
      "|           sewtalla|2025-03-02 11:30:...|           [moments]|[Moments Badge - ...|             [2]|           1|\n",
      "|             shakij|2025-03-02 11:30:...|                NULL|                NULL|            NULL|          -1|\n",
      "|             shakij|2025-03-02 11:30:...|                NULL|                NULL|            NULL|          -1|\n",
      "|             shakij|2025-03-02 11:30:...|                NULL|                NULL|            NULL|          -1|\n",
      "|             shakij|2025-03-02 11:30:...|                NULL|                NULL|            NULL|          -1|\n",
      "|          issey_895|2025-03-02 11:30:...|                NULL|                NULL|            NULL|          -1|\n",
      "|          klotklot9|2025-03-02 11:31:...|           [premium]|      [Prime Gaming]|             [1]|           1|\n",
      "|   audioguyfrom_pgl|2025-03-02 11:31:...|    [clip_the_halls]|    [Clip the Halls]|             [1]|           1|\n",
      "|       jadedwarrior|2025-03-02 11:31:...|    [share_the_love]|    [Share the Love]|             [1]|           1|\n",
      "|            limac__|2025-03-02 11:31:...|    [share_the_love]|    [Share the Love]|             [1]|           1|\n",
      "|            limac__|2025-03-02 11:31:...|    [share_the_love]|    [Share the Love]|             [1]|           1|\n",
      "|   audioguyfrom_pgl|2025-03-02 11:31:...|    [clip_the_halls]|    [Clip the Halls]|             [1]|           1|\n",
      "|          klotklot9|2025-03-02 11:31:...|           [premium]|      [Prime Gaming]|             [1]|           1|\n",
      "|        keiigee1127|2025-03-02 11:31:...|                NULL|                NULL|            NULL|          -1|\n",
      "|            baeissa|2025-03-02 11:32:...|    [share_the_love]|    [Share the Love]|             [1]|           1|\n",
      "|         ch1cken777|2025-03-02 11:32:...|    [share_the_love]|    [Share the Love]|             [1]|           1|\n",
      "|       jadedwarrior|2025-03-02 11:32:...|    [share_the_love]|    [Share the Love]|             [1]|           1|\n",
      "|pinkandbluepeekaboo|2025-03-02 11:32:...|                NULL|                NULL|            NULL|          -1|\n",
      "|pinkandbluepeekaboo|2025-03-02 11:32:...|                NULL|                NULL|            NULL|          -1|\n",
      "|           myryderz|2025-03-02 11:32:...|       [glhf_pledge]|       [GLHF Pledge]|             [1]|           1|\n",
      "|odzzzzzzzzzzzzzzzzz|2025-03-02 11:33:...|           [moments]|[Moments Badge - ...|             [1]|           1|\n",
      "|          klotklot9|2025-03-02 11:33:...|           [premium]|      [Prime Gaming]|             [1]|           1|\n",
      "|            lil_pk2|2025-03-02 11:33:...|                NULL|                NULL|            NULL|          -1|\n",
      "|              drsox|2025-03-02 11:34:...|                NULL|                NULL|            NULL|          -1|\n",
      "|       jadedwarrior|2025-03-02 11:34:...|    [share_the_love]|    [Share the Love]|             [1]|           1|\n",
      "|       robertmaxity|2025-03-02 11:35:...| [twitch_recap_2024]| [Twitch Recap 2024]|             [1]|           1|\n",
      "|       robertmaxity|2025-03-02 11:35:...| [twitch_recap_2024]| [Twitch Recap 2024]|             [1]|           1|\n",
      "|   audioguyfrom_pgl|2025-03-02 11:35:...|    [clip_the_halls]|    [Clip the Halls]|             [1]|           1|\n",
      "|        novach_sama|2025-03-02 11:35:...|           [moments]|[Moments Badge - ...|             [2]|           1|\n",
      "|justalowkeychillguy|2025-03-02 11:35:...|                NULL|                NULL|            NULL|          -1|\n",
      "|justalowkeychillguy|2025-03-02 11:36:...|                NULL|                NULL|            NULL|          -1|\n",
      "|          klotklot9|2025-03-02 11:36:...|           [premium]|      [Prime Gaming]|             [1]|           1|\n",
      "|           omtelvio|2025-03-02 11:38:...|                NULL|                NULL|            NULL|          -1|\n",
      "|          noone1050|2025-03-02 11:39:...| [twitch_recap_2023]| [Twitch Recap 2023]|             [1]|           1|\n",
      "|           hgltv777|2025-03-02 11:39:...|  [raging_wolf_helm]|  [Raging Wolf Helm]|             [1]|           1|\n",
      "|             xishko|2025-03-02 11:39:...|           [moments]|[Moments Badge - ...|             [3]|           1|\n",
      "|             moobot|2025-03-02 11:39:...|[moderator, partner]|[Moderator, Verif...|          [1, 1]|           2|\n",
      "|             moobot|2025-03-02 11:39:...|[moderator, partner]|[Moderator, Verif...|          [1, 1]|           2|\n",
      "|          maveryckz|2025-03-02 11:39:...| [twitch_recap_2024]| [Twitch Recap 2024]|             [1]|           1|\n",
      "|          imeanwcyd|2025-03-02 11:39:...|           [moments]|[Moments Badge - ...|             [1]|           1|\n",
      "+-------------------+--------------------+--------------------+--------------------+----------------+------------+\n",
      "only showing top 100 rows\n",
      "\n"
     ]
    },
    {
     "name": "stderr",
     "output_type": "stream",
     "text": [
      "                                                                                \r"
     ]
    }
   ],
   "source": [
    "badge_info_with_count.show(100)"
   ]
  },
  {
   "cell_type": "code",
   "execution_count": 73,
   "id": "6f08e964-6f3f-43de-bf1a-20d45a07bd31",
   "metadata": {},
   "outputs": [],
   "source": [
    "badge_info_with_count.createOrReplaceTempView(\"badges\")"
   ]
  },
  {
   "cell_type": "code",
   "execution_count": 93,
   "id": "57bf7c75-3c74-46dc-901f-fee7143ff13e",
   "metadata": {},
   "outputs": [],
   "source": [
    "explore_query = \"\"\"\n",
    "select i_username, i_badge_names, i_badge_titles, i_badge_versions\n",
    "from badges\n",
    "where i_username in (select distinct i_username\n",
    "from badges\n",
    "where badges_count = -1\n",
    "limit 10)\n",
    "order by badges_count desc\n",
    "LIMIT 10\n",
    "\"\"\""
   ]
  },
  {
   "cell_type": "code",
   "execution_count": 95,
   "id": "d7511994-da22-4506-a4fb-cc09afd6c21a",
   "metadata": {},
   "outputs": [],
   "source": [
    "example_1 = spark.sql(explore_query)"
   ]
  },
  {
   "cell_type": "code",
   "execution_count": 104,
   "id": "53978f65-468c-426e-8574-6a3bacd5c605",
   "metadata": {},
   "outputs": [],
   "source": [
    "example_2 = spark.sql(\"\"\"select i_username, i_badge_names, i_badge_titles, i_badge_versions\n",
    "from badges\n",
    "where i_username in (select distinct i_username\n",
    "from badges\n",
    "where i_badge_names is NULL\n",
    "limit 10)\n",
    "or i_username != 'b3arly'\n",
    "order by badges_count desc\n",
    "LIMIT 10\"\"\")"
   ]
  },
  {
   "cell_type": "code",
   "execution_count": 105,
   "id": "00a854ec-068c-4a13-a707-60ad23018cce",
   "metadata": {},
   "outputs": [
    {
     "name": "stderr",
     "output_type": "stream",
     "text": [
      "[Stage 146:============================>                            (1 + 1) / 2]\r"
     ]
    },
    {
     "name": "stdout",
     "output_type": "stream",
     "text": [
      "+------------+--------------------+--------------------+----------------+\n",
      "|  i_username|       i_badge_names|      i_badge_titles|i_badge_versions|\n",
      "+------------+--------------------+--------------------+----------------+\n",
      "|eunoobslayer|[predictions, sub...|[Predicted Pink (...|  [pink-2, 0, 1]|\n",
      "|eunoobslayer|[predictions, sub...|[Predicted Pink (...|  [pink-2, 0, 1]|\n",
      "|eunoobslayer|[predictions, sub...|[Predicted Pink (...|  [pink-2, 0, 1]|\n",
      "|eunoobslayer|[predictions, sub...|[Predicted Pink (...|  [pink-2, 0, 1]|\n",
      "|eunoobslayer|[predictions, sub...|[Predicted Pink (...|  [pink-2, 0, 1]|\n",
      "|eunoobslayer|[predictions, sub...|[Predicted Pink (...|  [pink-2, 0, 1]|\n",
      "|eunoobslayer|[predictions, sub...|[Predicted Pink (...|  [pink-2, 0, 1]|\n",
      "|eunoobslayer|[predictions, sub...|[Predicted Pink (...|  [pink-2, 0, 1]|\n",
      "|eunoobslayer|[predictions, sub...|[Predicted Pink (...|  [pink-2, 0, 1]|\n",
      "|eunoobslayer|[predictions, sub...|[Predicted Pink (...|  [pink-2, 0, 1]|\n",
      "+------------+--------------------+--------------------+----------------+\n",
      "\n"
     ]
    },
    {
     "name": "stderr",
     "output_type": "stream",
     "text": [
      "                                                                                \r"
     ]
    }
   ],
   "source": [
    "example_2.show()"
   ]
  },
  {
   "cell_type": "code",
   "execution_count": 109,
   "id": "8cc46677-8966-413d-8533-f689f921209a",
   "metadata": {},
   "outputs": [],
   "source": [
    "# explore_query = \"\"\"\n",
    "# select * from badges limit 10\n",
    "# \"\"\"\n",
    "\n",
    "explore_query = \"\"\"\n",
    "with cte as (\n",
    "select *, case when i_badge_names is NULL then 0 else badges_count end as badges_count_tf\n",
    "from badges)\n",
    "select *\n",
    "from cte\n",
    "\"\"\""
   ]
  },
  {
   "cell_type": "code",
   "execution_count": 111,
   "id": "6ea9d519-c3f0-4cb8-a0b3-92e577afc4ef",
   "metadata": {},
   "outputs": [],
   "source": [
    "final_df = spark.sql(explore_query)"
   ]
  },
  {
   "cell_type": "code",
   "execution_count": 115,
   "id": "1c2cbb90-2da6-4d0e-af24-b7b3d478bc61",
   "metadata": {},
   "outputs": [],
   "source": [
    "final_df.createOrReplaceTempView(\"badges\")"
   ]
  },
  {
   "cell_type": "code",
   "execution_count": 116,
   "id": "8fed3039-362d-4262-957a-e59a40287ff4",
   "metadata": {},
   "outputs": [],
   "source": [
    "query = \"\"\"\n",
    "SELECT i_username, max(badges_count_tf) as badge_count\n",
    "FROM badges\n",
    "GROUP BY i_username\n",
    "ORDER BY badge_count DESC\n",
    "\"\"\""
   ]
  },
  {
   "cell_type": "code",
   "execution_count": 117,
   "id": "1f626ccc-9713-4768-9074-06692cd5accf",
   "metadata": {},
   "outputs": [],
   "source": [
    "distinct_users_and_their_badge_count = spark.sql(query)"
   ]
  },
  {
   "cell_type": "code",
   "execution_count": 118,
   "id": "f6b035d6-06ca-4cdd-ae93-377edd5b5312",
   "metadata": {},
   "outputs": [
    {
     "name": "stderr",
     "output_type": "stream",
     "text": [
      "                                                                                \r"
     ]
    },
    {
     "data": {
      "text/plain": [
       "14998"
      ]
     },
     "execution_count": 118,
     "metadata": {},
     "output_type": "execute_result"
    }
   ],
   "source": [
    "distinct_users_and_their_badge_count.count()"
   ]
  },
  {
   "cell_type": "code",
   "execution_count": 119,
   "id": "30132935-31f3-423c-99c6-208eecc7b290",
   "metadata": {},
   "outputs": [
    {
     "name": "stderr",
     "output_type": "stream",
     "text": [
      "[Stage 158:============================>                            (1 + 1) / 2]\r"
     ]
    },
    {
     "name": "stdout",
     "output_type": "stream",
     "text": [
      "+------------------+-----------+\n",
      "|        i_username|badge_count|\n",
      "+------------------+-----------+\n",
      "|           demonek|          3|\n",
      "|           merck2d|          3|\n",
      "|          tacofps_|          3|\n",
      "|jossilynwestingesq|          3|\n",
      "|          ystamp19|          3|\n",
      "|           apenman|          3|\n",
      "|       astris_lumi|          3|\n",
      "|            crtvly|          3|\n",
      "|              oak0|          3|\n",
      "|           xd3m1nx|          3|\n",
      "|           rykhasa|          3|\n",
      "|      faelullmarin|          3|\n",
      "|            swamta|          3|\n",
      "|        ganbayar13|          3|\n",
      "|       ghostxking_|          3|\n",
      "|      bruhungstein|          3|\n",
      "|      eunoobslayer|          3|\n",
      "|       zentumaisle|          2|\n",
      "|          esownzxc|          2|\n",
      "|        kazumaa007|          2|\n",
      "+------------------+-----------+\n",
      "only showing top 20 rows\n",
      "\n"
     ]
    },
    {
     "name": "stderr",
     "output_type": "stream",
     "text": [
      "                                                                                \r"
     ]
    }
   ],
   "source": [
    "distinct_users_and_their_badge_count.show()"
   ]
  },
  {
   "cell_type": "code",
   "execution_count": 120,
   "id": "c43dbb85-7531-4998-9100-7b9713e06f81",
   "metadata": {},
   "outputs": [],
   "source": [
    "distinct_users_and_their_badge_count.createOrReplaceTempView(\"pie\")"
   ]
  },
  {
   "cell_type": "code",
   "execution_count": 129,
   "id": "1ac1e402-64d3-4239-ace4-e2f35adf2191",
   "metadata": {},
   "outputs": [],
   "source": [
    "pie_query = \"\"\"\n",
    "select badge_count as number_of_badges_per_user, count(i_username) as users_volume_count, \n",
    "        round(100*count(i_username)/(select count(*) from pie),2) as users_volume_percentage\n",
    "from pie\n",
    "group by badge_count\n",
    "order by number_of_badges_per_user \"\"\""
   ]
  },
  {
   "cell_type": "code",
   "execution_count": 134,
   "id": "aadc42e9-d260-4368-9c66-54b3253b249e",
   "metadata": {},
   "outputs": [
    {
     "name": "stderr",
     "output_type": "stream",
     "text": [
      "                                                                                \r"
     ]
    }
   ],
   "source": [
    "spark.sql(pie_query).write.option(\"header\", True).csv(\"pie\")"
   ]
  },
  {
   "cell_type": "code",
   "execution_count": 132,
   "id": "34837561-a211-4539-8b0d-497c100f36ed",
   "metadata": {},
   "outputs": [
    {
     "data": {
      "text/plain": [
       "'/Users/hari14/Desktop/PHD/twitch_emotes_analytics_project/python_notebooks'"
      ]
     },
     "execution_count": 132,
     "metadata": {},
     "output_type": "execute_result"
    }
   ],
   "source": [
    "pwd"
   ]
  },
  {
   "cell_type": "code",
   "execution_count": 133,
   "id": "54ccfd31-36f5-4e58-adc1-415543f10a1b",
   "metadata": {},
   "outputs": [
    {
     "name": "stdout",
     "output_type": "stream",
     "text": [
      "explore_badgesinfo_jun25.ipynb  \u001b[34mweek4\u001b[m\u001b[m/\n",
      "\u001b[34mpie.csv\u001b[m\u001b[m/                        \u001b[34mweek5\u001b[m\u001b[m/\n",
      "\u001b[34mutilities\u001b[m\u001b[m/                      \u001b[34mweek6\u001b[m\u001b[m/\n"
     ]
    }
   ],
   "source": [
    "ls"
   ]
  },
  {
   "cell_type": "code",
   "execution_count": null,
   "id": "f1dd55ff-13c5-4a0a-a461-ad1b658e34e3",
   "metadata": {},
   "outputs": [],
   "source": []
  },
  {
   "cell_type": "code",
   "execution_count": null,
   "id": "b2919166-fd3d-40f3-ac6b-c061d3fd6e2e",
   "metadata": {},
   "outputs": [],
   "source": []
  },
  {
   "cell_type": "code",
   "execution_count": null,
   "id": "f3f3418c-2345-4a62-9ca7-5432a42a10d7",
   "metadata": {},
   "outputs": [],
   "source": []
  },
  {
   "cell_type": "code",
   "execution_count": null,
   "id": "94476eb1-81af-4e43-be46-275d6f5b731b",
   "metadata": {},
   "outputs": [],
   "source": []
  },
  {
   "cell_type": "code",
   "execution_count": null,
   "id": "10d2a501-e3fc-44e3-8c50-f105ad91e645",
   "metadata": {},
   "outputs": [],
   "source": []
  },
  {
   "cell_type": "code",
   "execution_count": null,
   "id": "c804f37d-4f08-457c-ab60-b64dcc487463",
   "metadata": {},
   "outputs": [],
   "source": []
  },
  {
   "cell_type": "code",
   "execution_count": null,
   "id": "1beca2de-0474-4675-8a9a-ce22c631b269",
   "metadata": {},
   "outputs": [],
   "source": []
  },
  {
   "cell_type": "code",
   "execution_count": null,
   "id": "5090c776-6888-4cd2-aae3-b094c9e77e74",
   "metadata": {},
   "outputs": [],
   "source": []
  },
  {
   "cell_type": "code",
   "execution_count": null,
   "id": "1f8063b4-d408-4045-8647-0f8cc816d7bd",
   "metadata": {},
   "outputs": [],
   "source": []
  },
  {
   "cell_type": "code",
   "execution_count": 16,
   "id": "6d2aee95-7108-4069-b495-55d9a1ab2ec1",
   "metadata": {},
   "outputs": [],
   "source": [
    "df_badge_info_flattened = badge_info.withColumn(\"badge_names\", explode(\"i_badge_names\")) \\\n",
    "                                    .withColumn(\"badge_titles\", explode(\"i_badge_titles\")) \\\n",
    "                                    .withColumn(\"badge_versions\", explode(\"i_badge_versions\"))"
   ]
  },
  {
   "cell_type": "code",
   "execution_count": 17,
   "id": "6312cd78-1d27-4f46-86c0-27acdb4770d1",
   "metadata": {},
   "outputs": [
    {
     "name": "stderr",
     "output_type": "stream",
     "text": [
      "[Stage 5:>                                                          (0 + 1) / 1]\r"
     ]
    },
    {
     "name": "stdout",
     "output_type": "stream",
     "text": [
      "+--------------------+--------------------+----------------+-----------+--------------------+--------------+\n",
      "|       i_badge_names|      i_badge_titles|i_badge_versions|badge_names|        badge_titles|badge_versions|\n",
      "+--------------------+--------------------+----------------+-----------+--------------------+--------------+\n",
      "|           [moments]|[Moments Badge - ...|             [2]|    moments|Moments Badge - T...|             2|\n",
      "|           [moments]|[Moments Badge - ...|             [1]|    moments|Moments Badge - T...|             1|\n",
      "|           [moments]|[Moments Badge - ...|             [2]|    moments|Moments Badge - T...|             2|\n",
      "|[moderator, partner]|[Moderator, Verif...|          [1, 1]|  moderator|           Moderator|             1|\n",
      "|[moderator, partner]|[Moderator, Verif...|          [1, 1]|  moderator|           Moderator|             1|\n",
      "|[moderator, partner]|[Moderator, Verif...|          [1, 1]|  moderator|            Verified|             1|\n",
      "|[moderator, partner]|[Moderator, Verif...|          [1, 1]|  moderator|            Verified|             1|\n",
      "|[moderator, partner]|[Moderator, Verif...|          [1, 1]|    partner|           Moderator|             1|\n",
      "|[moderator, partner]|[Moderator, Verif...|          [1, 1]|    partner|           Moderator|             1|\n",
      "|[moderator, partner]|[Moderator, Verif...|          [1, 1]|    partner|            Verified|             1|\n",
      "|[moderator, partner]|[Moderator, Verif...|          [1, 1]|    partner|            Verified|             1|\n",
      "|[moderator, partner]|[Moderator, Verif...|          [1, 1]|  moderator|           Moderator|             1|\n",
      "|[moderator, partner]|[Moderator, Verif...|          [1, 1]|  moderator|           Moderator|             1|\n",
      "|[moderator, partner]|[Moderator, Verif...|          [1, 1]|  moderator|            Verified|             1|\n",
      "|[moderator, partner]|[Moderator, Verif...|          [1, 1]|  moderator|            Verified|             1|\n",
      "|[moderator, partner]|[Moderator, Verif...|          [1, 1]|    partner|           Moderator|             1|\n",
      "|[moderator, partner]|[Moderator, Verif...|          [1, 1]|    partner|           Moderator|             1|\n",
      "|[moderator, partner]|[Moderator, Verif...|          [1, 1]|    partner|            Verified|             1|\n",
      "|[moderator, partner]|[Moderator, Verif...|          [1, 1]|    partner|            Verified|             1|\n",
      "|           [moments]|[Moments Badge - ...|             [1]|    moments|Moments Badge - T...|             1|\n",
      "+--------------------+--------------------+----------------+-----------+--------------------+--------------+\n",
      "only showing top 20 rows\n",
      "\n"
     ]
    },
    {
     "name": "stderr",
     "output_type": "stream",
     "text": [
      "                                                                                \r"
     ]
    }
   ],
   "source": [
    "df_badge_info_flattened.show()"
   ]
  },
  {
   "cell_type": "code",
   "execution_count": 19,
   "id": "74236e93-8c0d-4290-97ae-3b2a81480de7",
   "metadata": {},
   "outputs": [],
   "source": [
    "from pyspark.sql import functions as F"
   ]
  },
  {
   "cell_type": "code",
   "execution_count": 26,
   "id": "5256e95a-be1c-4fa9-9884-18034bb23e59",
   "metadata": {},
   "outputs": [],
   "source": [
    "badge_names = df_badge_info_flattened.groupBy(\"badge_names\").agg(F.count(\"badge_names\").alias(\"tot_count\")).sort(\"tot_count\", ascending = 0)"
   ]
  },
  {
   "cell_type": "code",
   "execution_count": 36,
   "id": "87ed238d-3550-4ce0-9bc0-049e94adb055",
   "metadata": {},
   "outputs": [],
   "source": [
    "badge_titles = df_badge_info_flattened.groupBy(\"badge_titles\").agg(F.count(\"badge_titles\").alias(\"tot_count\")).sort(\"tot_count\", ascending = 0)"
   ]
  },
  {
   "cell_type": "code",
   "execution_count": 37,
   "id": "8ed3d074-9ff3-4a52-9d5d-83ab342b953a",
   "metadata": {},
   "outputs": [
    {
     "name": "stderr",
     "output_type": "stream",
     "text": [
      "                                                                                \r"
     ]
    },
    {
     "name": "stdout",
     "output_type": "stream",
     "text": [
      "52\n"
     ]
    },
    {
     "name": "stderr",
     "output_type": "stream",
     "text": [
      "[Stage 37:=============================>                            (1 + 1) / 2]\r"
     ]
    },
    {
     "name": "stdout",
     "output_type": "stream",
     "text": [
      "60\n"
     ]
    },
    {
     "name": "stderr",
     "output_type": "stream",
     "text": [
      "                                                                                \r"
     ]
    }
   ],
   "source": [
    "print(badge_names.count())\n",
    "print(badge_titles.count())"
   ]
  },
  {
   "cell_type": "code",
   "execution_count": 35,
   "id": "acb65515-86b9-4d92-9810-0440d57308cd",
   "metadata": {},
   "outputs": [
    {
     "name": "stderr",
     "output_type": "stream",
     "text": [
      "[Stage 28:=============================>                            (1 + 1) / 2]\r"
     ]
    },
    {
     "name": "stdout",
     "output_type": "stream",
     "text": [
      "+--------------------+---------+\n",
      "|         badge_names|tot_count|\n",
      "+--------------------+---------+\n",
      "|             moments|    65465|\n",
      "|         predictions|    33909|\n",
      "|           moderator|     8563|\n",
      "|    raging_wolf_helm|     7717|\n",
      "|   twitch_recap_2023|     7185|\n",
      "|   twitch_recap_2024|     7161|\n",
      "|          subscriber|     7013|\n",
      "|             partner|     6870|\n",
      "|      share_the_love|     5656|\n",
      "|             premium|     5465|\n",
      "|            no_video|     3685|\n",
      "|               turbo|     3125|\n",
      "|            no_audio|     3031|\n",
      "|        gone_bananas|     2389|\n",
      "|         glhf_pledge|     2128|\n",
      "|         rplace_2023|     2088|\n",
      "|destiny_2_final_s...|     1297|\n",
      "|superultracombo_2023|     1295|\n",
      "|       glitchcon2020|     1064|\n",
      "|      subtember_2024|     1060|\n",
      "|        bits_charity|      894|\n",
      "|gold_pixel_heart_...|      869|\n",
      "|          sub_gifter|      677|\n",
      "|purple_pixel_hear...|      583|\n",
      "|                 vip|      518|\n",
      "|marathon_reveal_r...|      505|\n",
      "|                bits|      452|\n",
      "|  chatter_cs_go_2022|      431|\n",
      "|      clip_the_halls|      355|\n",
      "|arcane_season_2_p...|      272|\n",
      "|        la_velada_iv|      214|\n",
      "|minecraft_15th_an...|      196|\n",
      "|         zevent_2024|      151|\n",
      "|    speedons_5_badge|       87|\n",
      "|        clips_leader|       46|\n",
      "|  elden_ring_recluse|        9|\n",
      "|               staff|        8|\n",
      "|ruby_pixel_heart_...|        4|\n",
      "|     twitchconNA2023|        4|\n",
      "|overwatch_league_...|        3|\n",
      "|overwatch_league_...|        3|\n",
      "|       twitchcon2018|        3|\n",
      "|       twitchcon2017|        3|\n",
      "|     twitchconNA2019|        2|\n",
      "|twitchcon_2024___...|        2|\n",
      "|destiny_2_the_fin...|        1|\n",
      "|        battlerite_1|        1|\n",
      "|     twitchconEU2019|        1|\n",
      "|     twitchconEU2022|        1|\n",
      "|     twitchconEU2023|        1|\n",
      "|     twitchconNA2022|        1|\n",
      "|    gold_pixel_heart|        1|\n",
      "+--------------------+---------+\n",
      "\n"
     ]
    },
    {
     "name": "stderr",
     "output_type": "stream",
     "text": [
      "                                                                                \r"
     ]
    }
   ],
   "source": [
    "badge_names.show(100)"
   ]
  },
  {
   "cell_type": "code",
   "execution_count": 39,
   "id": "5ef4451d-d0df-4e98-a6b6-7e910bd5c7e0",
   "metadata": {},
   "outputs": [
    {
     "name": "stderr",
     "output_type": "stream",
     "text": [
      "[Stage 46:=============================>                            (1 + 1) / 2]\r"
     ]
    },
    {
     "name": "stdout",
     "output_type": "stream",
     "text": [
      "+------------------------------------------+---------+\n",
      "|badge_titles                              |tot_count|\n",
      "+------------------------------------------+---------+\n",
      "|Moments Badge - Tier 1                    |42189    |\n",
      "|Moments Badge - Tier 2                    |19649    |\n",
      "|Predicted Pink (2)                        |17115    |\n",
      "|Predicted Blue (1)                        |16794    |\n",
      "|Moderator                                 |8563     |\n",
      "|Raging Wolf Helm                          |7717     |\n",
      "|Twitch Recap 2023                         |7185     |\n",
      "|Twitch Recap 2024                         |7161     |\n",
      "|Verified                                  |6870     |\n",
      "|Share the Love                            |5656     |\n",
      "|Prime Gaming                              |5465     |\n",
      "|Subscriber                                |4739     |\n",
      "|Listening only                            |3685     |\n",
      "|Moments Badge - Tier 3                    |3627     |\n",
      "|Turbo                                     |3125     |\n",
      "|Watching without audio                    |3031     |\n",
      "|Gone Bananas Badge                        |2389     |\n",
      "|GLHF Pledge                               |2128     |\n",
      "|r/place 2023 Cake                         |2088     |\n",
      "|3-Month Subscriber                        |1376     |\n",
      "|Destiny 2: The Final Shape Raid Race      |1297     |\n",
      "|SuperUltraCombo 2023                      |1295     |\n",
      "|GlitchCon 2020                            |1064     |\n",
      "|SUBtember 2024                            |1060     |\n",
      "|2-Month Subscriber                        |898      |\n",
      "|Direct Relief - Charity 2018              |894      |\n",
      "|Gold Pixel Heart - Together For Good '24  |869      |\n",
      "|Purple Pixel Heart - Together For Good '24|583      |\n",
      "|VIP                                       |518      |\n",
      "|Marathon Reveal Runner                    |505      |\n",
      "|5 Gift Subs                               |437      |\n",
      "|CS:GO Week Brazil 2022                    |431      |\n",
      "|cheer 1                                   |386      |\n",
      "|Clip the Halls                            |355      |\n",
      "|Arcane Season 2 Premiere                  |272      |\n",
      "|Sub Gifter                                |240      |\n",
      "|La Velada del Año IV                      |214      |\n",
      "|Minecraft 15th Anniversary Celebration    |196      |\n",
      "|ZEVENT 2024                               |151      |\n",
      "|Speedons 5 Badge                          |87       |\n",
      "|cheer 100                                 |66       |\n",
      "|Clips Leader 1                            |40       |\n",
      "|Elden Ring SuperFan badge - Recluse       |9        |\n",
      "|Staff                                     |8        |\n",
      "|Clips Leader 3                            |6        |\n",
      "|TwitchCon 2023 - Las Vegas                |4        |\n",
      "|Ruby Pixel Heart - Together For Good '24  |4        |\n",
      "|TwitchCon 2017 - Long Beach               |3        |\n",
      "|TwitchCon 2018 - San Jose                 |3        |\n",
      "|OWL All-Access Pass 2019                  |3        |\n",
      "|OWL All-Access Pass 2018                  |3        |\n",
      "|TwitchCon 2019 - San Diego                |2        |\n",
      "|TwitchCon 2024 - San Diego                |2        |\n",
      "|Battlerite                                |1        |\n",
      "|TwitchCon 2023 - Paris                    |1        |\n",
      "|Gold Pixel Heart                          |1        |\n",
      "|TwitchCon 2022 - Amsterdam                |1        |\n",
      "|TwitchCon 2022 - San Diego                |1        |\n",
      "|TwitchCon 2019 - Berlin                   |1        |\n",
      "|Destiny 2: The Final Shape Streamer       |1        |\n",
      "+------------------------------------------+---------+\n",
      "\n"
     ]
    },
    {
     "name": "stderr",
     "output_type": "stream",
     "text": [
      "                                                                                \r"
     ]
    }
   ],
   "source": [
    "badge_titles.show(100, truncate = False)"
   ]
  },
  {
   "cell_type": "code",
   "execution_count": null,
   "id": "24b6842d-5ea6-46ae-bcf2-3b74980ee9ce",
   "metadata": {},
   "outputs": [],
   "source": []
  }
 ],
 "metadata": {
  "kernelspec": {
   "display_name": "Python 3 (ipykernel)",
   "language": "python",
   "name": "python3"
  },
  "language_info": {
   "codemirror_mode": {
    "name": "ipython",
    "version": 3
   },
   "file_extension": ".py",
   "mimetype": "text/x-python",
   "name": "python",
   "nbconvert_exporter": "python",
   "pygments_lexer": "ipython3",
   "version": "3.12.4"
  }
 },
 "nbformat": 4,
 "nbformat_minor": 5
}
