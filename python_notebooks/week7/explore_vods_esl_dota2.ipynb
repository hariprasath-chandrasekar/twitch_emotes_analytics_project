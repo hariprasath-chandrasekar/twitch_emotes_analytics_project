{
 "cells": [
  {
   "cell_type": "code",
   "execution_count": 1,
   "id": "71d965f9-0711-492e-ac8b-6f2544dcc08a",
   "metadata": {},
   "outputs": [],
   "source": [
    "import os"
   ]
  },
  {
   "cell_type": "code",
   "execution_count": 5,
   "id": "6f1c9cd1-6530-4adb-8b0d-fb784347d543",
   "metadata": {},
   "outputs": [],
   "source": [
    "relative_file_path = \"../../data/raw_bronze/esl_dota2/week5/esl_dota2.csv\"\n",
    "file_path = os.path.abspath(relative_file_path)"
   ]
  },
  {
   "cell_type": "code",
   "execution_count": 6,
   "id": "e32865e8-98ee-441a-8990-33b41c7af12c",
   "metadata": {},
   "outputs": [],
   "source": [
    "from pyspark.sql import SparkSession"
   ]
  },
  {
   "cell_type": "code",
   "execution_count": 7,
   "id": "1b2364b7-d3d7-44bd-bd6c-476dee89eacf",
   "metadata": {},
   "outputs": [
    {
     "name": "stderr",
     "output_type": "stream",
     "text": [
      "Setting default log level to \"WARN\".\n",
      "To adjust logging level use sc.setLogLevel(newLevel). For SparkR, use setLogLevel(newLevel).\n",
      "25/06/28 23:04:34 WARN NativeCodeLoader: Unable to load native-hadoop library for your platform... using builtin-java classes where applicable\n"
     ]
    }
   ],
   "source": [
    "spark = SparkSession.builder\\\n",
    "                    .appName(\"explore_vods\") \\\n",
    "                    .getOrCreate()"
   ]
  },
  {
   "cell_type": "code",
   "execution_count": 8,
   "id": "5456d645-8b7d-46a7-b643-1927e01f7c57",
   "metadata": {},
   "outputs": [
    {
     "name": "stderr",
     "output_type": "stream",
     "text": [
      "ANTLR Tool version 4.9.3 used for code generation does not match the current runtime version 4.7ANTLR Runtime version 4.9.3 used for parser compilation does not match the current runtime version 4.7ANTLR Tool version 4.9.3 used for code generation does not match the current runtime version 4.7ANTLR Runtime version 4.9.3 used for parser compilation does not match the current runtime version 4.7"
     ]
    }
   ],
   "source": [
    "df = spark.read.format(\"csv\") \\\n",
    "               .option(\"header\", True) \\\n",
    "               .option(\"inferSchema\", True) \\\n",
    "               .load(file_path)"
   ]
  },
  {
   "cell_type": "code",
   "execution_count": 9,
   "id": "b404070c-9bca-41eb-a880-548cbd1d451b",
   "metadata": {},
   "outputs": [
    {
     "data": {
      "text/plain": [
       "2712"
      ]
     },
     "execution_count": 9,
     "metadata": {},
     "output_type": "execute_result"
    }
   ],
   "source": [
    "df.count()"
   ]
  },
  {
   "cell_type": "code",
   "execution_count": 10,
   "id": "2cf1b800-ed3a-42a3-aa74-b1de948623a8",
   "metadata": {},
   "outputs": [
    {
     "name": "stdout",
     "output_type": "stream",
     "text": [
      "+----------+--------------------+--------------------+---------+--------------------+\n",
      "|        id|               title|          created_at| duration|                 url|\n",
      "+----------+--------------------+--------------------+---------+--------------------+\n",
      "|2483328608|RERUN: Nigma Gala...|2025-06-11T18:41:13Z| 22h2m50s|https://www.twitc...|\n",
      "|2481582342|RERUN: Shopify Re...|2025-06-09T18:40:59Z|47h59m57s|https://www.twitc...|\n",
      "|2479788818|RERUN: Aurora vs ...|2025-06-07T18:40:41Z|47h59m57s|https://www.twitc...|\n",
      "|2477959972|RERUN: Xtreme Gam...|2025-06-05T18:40:25Z|47h59m57s|https://www.twitc...|\n",
      "|2476200706|RERUN: Flipster T...|2025-06-03T18:40:17Z|47h59m57s|https://www.twitc...|\n",
      "|2474507771|HIGHLIGHTS: TALON...|2025-06-01T18:39:59Z|47h59m57s|https://www.twitc...|\n",
      "|2474173259|Full Broadcast: D...|2025-06-01T10:01:08Z|  8h37m9s|https://www.twitc...|\n",
      "|2473304044|Full Broadcast: D...|2025-05-31T12:01:13Z| 6h15m24s|https://www.twitc...|\n",
      "|2472360575|Full Broadcast: D...|2025-05-30T11:48:49Z| 8h12m55s|https://www.twitc...|\n",
      "|2471380378|Full Broadcast: D...|2025-05-29T08:30:53Z| 13h20m4s|https://www.twitc...|\n",
      "|2470493758|Full Broadcast: D...|2025-05-28T08:32:24Z|14h18m47s|https://www.twitc...|\n",
      "|2469619331|Full Broadcast: D...|2025-05-27T08:30:57Z|15h48m39s|https://www.twitc...|\n",
      "|2468743903|Full Broadcast: D...|2025-05-26T08:31:21Z|13h27m10s|https://www.twitc...|\n",
      "|2467872888|Full Broadcast: D...|2025-05-25T08:30:58Z| 15h9m38s|https://www.twitc...|\n",
      "|2466974221|Full Broadcast: D...|2025-05-24T08:31:35Z|  15h8m7s|https://www.twitc...|\n",
      "|2466088944|Full Broadcast: D...|2025-05-23T08:35:15Z| 14h19m5s|https://www.twitc...|\n",
      "|2465253392|Full Broadcast: D...|2025-05-22T09:00:55Z| 9h33m16s|https://www.twitc...|\n",
      "|2464413603|Full Broadcast: D...|2025-05-21T09:02:45Z|13h20m20s|https://www.twitc...|\n",
      "|2463572648|Full Broadcast: D...|2025-05-20T09:01:13Z|11h22m34s|https://www.twitc...|\n",
      "|2462745405|Full Broadcast: D...|2025-05-19T09:00:54Z|11h45m45s|https://www.twitc...|\n",
      "+----------+--------------------+--------------------+---------+--------------------+\n",
      "only showing top 20 rows\n",
      "\n"
     ]
    }
   ],
   "source": [
    "df.show()"
   ]
  },
  {
   "cell_type": "code",
   "execution_count": 11,
   "id": "dcd5f301-b65f-457c-969f-819ff405bedf",
   "metadata": {},
   "outputs": [
    {
     "name": "stdout",
     "output_type": "stream",
     "text": [
      "root\n",
      " |-- id: string (nullable = true)\n",
      " |-- title: string (nullable = true)\n",
      " |-- created_at: string (nullable = true)\n",
      " |-- duration: string (nullable = true)\n",
      " |-- url: string (nullable = true)\n",
      "\n"
     ]
    }
   ],
   "source": [
    "df.printSchema()"
   ]
  },
  {
   "cell_type": "code",
   "execution_count": 13,
   "id": "06e6ead3-279b-484d-9471-e6771a4b7592",
   "metadata": {},
   "outputs": [],
   "source": [
    "df.createOrReplaceTempView(\"vod\")"
   ]
  },
  {
   "cell_type": "code",
   "execution_count": 18,
   "id": "19c1e0a7-f240-4626-99af-69b1c41a04cb",
   "metadata": {},
   "outputs": [],
   "source": [
    "# query = \"\"\"\n",
    "# select *\n",
    "# from vod\n",
    "# where title LIKE \"%DreamLeague%\"\n",
    "# order by created_at\n",
    "# \"\"\"\n",
    "query = \"\"\"\n",
    "select extract (year from created_at) as year, count(*)\n",
    "from vod\n",
    "group by extract (year from created_at) \n",
    "order by year\n",
    "\"\"\""
   ]
  },
  {
   "cell_type": "code",
   "execution_count": 19,
   "id": "10553cac-5173-4c5f-99af-7e0d5cdcade5",
   "metadata": {},
   "outputs": [
    {
     "name": "stdout",
     "output_type": "stream",
     "text": [
      "+----+--------+\n",
      "|year|count(1)|\n",
      "+----+--------+\n",
      "|NULL|8       |\n",
      "|2013|47      |\n",
      "|2014|14      |\n",
      "|2015|17      |\n",
      "|2016|219     |\n",
      "|2017|76      |\n",
      "|2018|1098    |\n",
      "|2019|364     |\n",
      "|2020|348     |\n",
      "|2021|154     |\n",
      "|2022|181     |\n",
      "|2023|57      |\n",
      "|2024|74      |\n",
      "|2025|55      |\n",
      "+----+--------+\n",
      "\n"
     ]
    }
   ],
   "source": [
    "spark.sql(query).show(truncate= False)"
   ]
  },
  {
   "cell_type": "code",
   "execution_count": null,
   "id": "c785a666-56dd-4b03-97e0-051a181060d2",
   "metadata": {},
   "outputs": [],
   "source": []
  }
 ],
 "metadata": {
  "kernelspec": {
   "display_name": "Python 3 (ipykernel)",
   "language": "python",
   "name": "python3"
  },
  "language_info": {
   "codemirror_mode": {
    "name": "ipython",
    "version": 3
   },
   "file_extension": ".py",
   "mimetype": "text/x-python",
   "name": "python",
   "nbconvert_exporter": "python",
   "pygments_lexer": "ipython3",
   "version": "3.12.4"
  }
 },
 "nbformat": 4,
 "nbformat_minor": 5
}
