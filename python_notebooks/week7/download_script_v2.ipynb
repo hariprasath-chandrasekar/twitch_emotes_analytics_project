{
 "cells": [
  {
   "cell_type": "code",
   "execution_count": null,
   "id": "429d091f-75b7-4fd4-a5f7-9e96c43335fe",
   "metadata": {},
   "outputs": [],
   "source": [
    "# ========================= Twitch Chats Downloader Script =======================\n",
    "# Run with : caffeinate -i python <filename.py>\n",
    "# ================================================================================"
   ]
  },
  {
   "cell_type": "code",
   "execution_count": 9,
   "id": "316f3595-dc5a-453a-9704-43de2cf00c72",
   "metadata": {},
   "outputs": [],
   "source": [
    "# Import all the required packages\n",
    "import pandas as pd\n",
    "import os\n",
    "import boto3\n",
    "import subprocess\n",
    "from datetime import datetime\n",
    "import smtplib\n",
    "from email.message import EmailMessage\n",
    "import textwrap"
   ]
  },
  {
   "cell_type": "code",
   "execution_count": 7,
   "id": "9fff5a09-4cb3-47a4-bd8a-51c8d0855164",
   "metadata": {},
   "outputs": [
    {
     "name": "stdin",
     "output_type": "stream",
     "text": [
      "Enter Twitch Channel Name:  esl_dota2\n",
      "Enter the years of chat messages separated by a comma:  2021,   2023,    2024\n"
     ]
    },
    {
     "name": "stdout",
     "output_type": "stream",
     "text": [
      "📺 Channel: esl_dota2, 📆 Year: ['2021', '2023', '2024']\n"
     ]
    }
   ],
   "source": [
    "# === Get user input ===\n",
    "channel_name = input(\"Enter Twitch Channel Name: \").strip()\n",
    "chats_year_multiple = input(\"Enter the years of chat messages separated by a comma: \").strip()\n",
    "chats_years_list = chats_year_multiple.split(\",\")\n",
    "chats_years_list = [i.strip() for i in chats_years_list]\n",
    "print(f\"📺 Channel: {channel_name}, 📆 Year: {chats_years_list}\")"
   ]
  },
  {
   "cell_type": "code",
   "execution_count": null,
   "id": "5e706785-8c3d-43c2-b25c-017222c470e3",
   "metadata": {},
   "outputs": [],
   "source": [
    "# === Load and sort VOD dataset ===\n",
    "vod_csv_path = f\"/Users/hari14/Desktop/PHD/twitch_emotes_analytics_project/data/videos_on_demand_urls/{channel_name}_vods.csv\"\n",
    "vod_links = pd.read_csv(vod_csv_path)\n",
    "vod_links[\"created_at\"] = pd.to_datetime(vod_links[\"created_at\"])\n",
    "vod_links = vod_links.sort_values(by=\"created_at\", ascending=True)"
   ]
  },
  {
   "cell_type": "code",
   "execution_count": null,
   "id": "b9152def-a9ae-4f58-b14f-03856836581a",
   "metadata": {},
   "outputs": [],
   "source": [
    "# === AWS S3 setup ===\n",
    "s3 = boto3.client(\"s3\")\n",
    "bucket_name = 'twitch-emotes-analytics-project'"
   ]
  },
  {
   "cell_type": "code",
   "execution_count": 6,
   "id": "b1e2d682-36bb-4bbe-ab77-cffa580dca26",
   "metadata": {},
   "outputs": [
    {
     "name": "stdout",
     "output_type": "stream",
     "text": [
      "\n",
      "📂 Chat JSONs will be saved temporarily to:\n",
      "/Users/hari14/Desktop/PHD/twitch_emotes_analytics_project/data/raw_bronze/week5/\n",
      "\n"
     ]
    }
   ],
   "source": [
    "# === Local path for JSONs ===\n",
    "download_path = \"/Users/hari14/Desktop/PHD/twitch_emotes_analytics_project/data/raw_bronze/week5/\"\n",
    "print(f\"\\n📂 Chat JSONs will be saved temporarily to:\\n{download_path}\\n\")"
   ]
  },
  {
   "cell_type": "code",
   "execution_count": null,
   "id": "b76c1718-2eeb-4ba6-b2f8-8848e89f2090",
   "metadata": {},
   "outputs": [],
   "source": [
    "# set and define email configurations\n",
    "EMAIL_ADDRESS = os.environ.get(\"EMAIL_USER\")\n",
    "EMAIL_PASSWORD = os.environ.get(\"EMAIL_PASS\")    \n",
    "def send_email(subject, body, to_email):\n",
    "    msg = EmailMessage()\n",
    "    msg.set_content(body)\n",
    "    msg[\"Subject\"] = subject\n",
    "    msg[\"From\"] = EMAIL_ADDRESS\n",
    "    msg[\"To\"] = to_email\n",
    "\n",
    "    with smtplib.SMTP_SSL(\"smtp.gmail.com\", 465) as smtp:\n",
    "        smtp.login(EMAIL_ADDRESS, EMAIL_PASSWORD)\n",
    "        smtp.send_message(msg)"
   ]
  },
  {
   "cell_type": "code",
   "execution_count": null,
   "id": "dad50302-98d8-4bed-b767-28a2b6908bca",
   "metadata": {},
   "outputs": [],
   "source": [
    "for chats_year in chats_years_list:\n",
    "    # === Filter for selected year and keep id + title ===\n",
    "    vod_links_filtered = vod_links[vod_links[\"created_at\"].dt.year == int(chats_year)][[\"id\", \"title\"]].copy()\n",
    "    print(f\"🎥 Found {len(vod_links_filtered)} VODs for year {chats_year}\")\n",
    "\n",
    "    # === Track failures ===\n",
    "    failed_downloads = []\n",
    "    failed_uploads = []\n",
    "\n",
    "    for file_number, row in enumerate(vod_links_filtered.itertuples()):\n",
    "        vod = row.id\n",
    "        title = row.title\n",
    "        print(f\"\\n▶️ Downloading file {file_number+1}/{len(vod_links_filtered)} | VOD: {vod}\")\n",
    "\n",
    "        url = f\"https://www.twitch.tv/videos/{vod}\"\n",
    "\n",
    "        # === File naming ===\n",
    "        file_name = f\"{channel_name}_{chats_year}_{file_number:03d}_{vod}.json\"\n",
    "        file_path = os.path.join(download_path, file_name)\n",
    "        s3_key = f\"data/raw_bronze/{channel_name}/{chats_year}/{file_name}\"\n",
    "\n",
    "        # === Download chat JSON ===\n",
    "        try:\n",
    "            subprocess.run([\"chat_downloader\", url, \"--output\", file_path], check=True)\n",
    "            print(\"✅ Chat downloaded\")\n",
    "        except subprocess.CalledProcessError as e:\n",
    "            print(f\"❌ Download failed for {vod}: {e}\")\n",
    "            failed_downloads.append((vod, title))\n",
    "            continue\n",
    "\n",
    "        # === Upload to S3 ===\n",
    "        try:\n",
    "            s3.upload_file(file_path, bucket_name, s3_key)\n",
    "            print(f\"🪣 Uploaded to s3://{bucket_name}/{s3_key}\")\n",
    "        except Exception as e:\n",
    "            print(f\"❌ Upload failed for {vod}: {e}\")\n",
    "            failed_uploads.append((vod, title))\n",
    "            continue\n",
    "\n",
    "        # === Delete local file ===\n",
    "        try:\n",
    "            os.remove(file_path)\n",
    "            print(\"🗑️ Local file deleted\")\n",
    "        except Exception as e:\n",
    "            print(f\"⚠️ Could not delete local file: {e}\")\n",
    "\n",
    "    # === Per-Year Summary ===\n",
    "    print(f\"\\n=========== SUMMARY for {chats_year} ===========\")\n",
    "    print(f\"✅ Successful downloads: {len(vod_links_filtered) - len(failed_downloads)}\")\n",
    "    print(f\"❌ Failed downloads: {len(failed_downloads)}\")\n",
    "    print(f\"❌ Failed uploads: {len(failed_uploads)}\")\n",
    "\n",
    "    if failed_downloads:\n",
    "        print(\"\\nFailed Downloads:\")\n",
    "        for vod, title in failed_downloads:\n",
    "            print(f\"  - VOD: {vod}, Title: {title}\")\n",
    "\n",
    "    if failed_uploads:\n",
    "        print(\"\\nFailed Uploads:\")\n",
    "        for vod, title in failed_uploads:\n",
    "            print(f\"  - VOD: {vod}, Title: {title}\")\n",
    "\n",
    "    print(\"================================\\n\")\n",
    "\n",
    "    # === Send summary email ===\n",
    "    failed_downloads_text = (\n",
    "        chr(10).join(f\"  - VOD: {vod}, Title: {title}\" for vod, title in failed_downloads)\n",
    "        if failed_downloads else \"  None\"\n",
    "    )\n",
    "    failed_uploads_text = (\n",
    "        chr(10).join(f\"  - VOD: {vod}, Title: {title}\" for vod, title in failed_uploads)\n",
    "        if failed_uploads else \"  None\"\n",
    "    )\n",
    "\n",
    "    summary = textwrap.dedent(f\"\"\"\n",
    "        =========== SUMMARY for {chats_year} ===========\n",
    "        ✅ Successful downloads: {len(vod_links_filtered) - len(failed_downloads)}\n",
    "        ❌ Failed downloads: {len(failed_downloads)}\n",
    "        ❌ Failed uploads: {len(failed_uploads)}\n",
    "\n",
    "        Failed Downloads:\n",
    "        {failed_downloads_text}\n",
    "\n",
    "        Failed Uploads:\n",
    "        {failed_uploads_text}\n",
    "        ================================\n",
    "    \"\"\")\n",
    "\n",
    "    try:\n",
    "        send_email(\n",
    "            subject=f\"📦 Twitch Chat Download Summary – {channel_name} {chats_year}\",\n",
    "            body=summary,\n",
    "            to_email=\"hariprasath.cp@gmail.com\"\n",
    "        )\n",
    "        print(f\"📧 Email summary sent for {chats_year}\")\n",
    "    except Exception as e:\n",
    "        print(f\"❌ Failed to send summary email for {chats_year}: {e}\")\n"
   ]
  }
 ],
 "metadata": {
  "kernelspec": {
   "display_name": "Python 3 (ipykernel)",
   "language": "python",
   "name": "python3"
  },
  "language_info": {
   "codemirror_mode": {
    "name": "ipython",
    "version": 3
   },
   "file_extension": ".py",
   "mimetype": "text/x-python",
   "name": "python",
   "nbconvert_exporter": "python",
   "pygments_lexer": "ipython3",
   "version": "3.12.4"
  }
 },
 "nbformat": 4,
 "nbformat_minor": 5
}
