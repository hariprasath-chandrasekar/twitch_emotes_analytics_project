{
 "cells": [
  {
   "cell_type": "code",
   "execution_count": 1,
   "id": "23136633-b4eb-4809-b700-d40072baccb2",
   "metadata": {},
   "outputs": [
    {
     "name": "stderr",
     "output_type": "stream",
     "text": [
      "25/07/03 01:13:42 WARN Utils: Your hostname, Hariprasaths-MacBook-Air.local resolves to a loopback address: 127.0.0.1; using 192.168.1.6 instead (on interface en0)\n",
      "25/07/03 01:13:42 WARN Utils: Set SPARK_LOCAL_IP if you need to bind to another address\n",
      "Setting default log level to \"WARN\".\n",
      "To adjust logging level use sc.setLogLevel(newLevel). For SparkR, use setLogLevel(newLevel).\n",
      "25/07/03 01:13:42 WARN NativeCodeLoader: Unable to load native-hadoop library for your platform... using builtin-java classes where applicable\n"
     ]
    }
   ],
   "source": [
    "from pyspark.sql import SparkSession\n",
    "spark = SparkSession.builder \\\n",
    "                    .appName(\"identify dreamleague sessions\") \\\n",
    "                    .getOrCreate()"
   ]
  },
  {
   "cell_type": "code",
   "execution_count": 2,
   "id": "730e1a98-2d6b-40f8-82a8-5a83800498e4",
   "metadata": {},
   "outputs": [
    {
     "data": {
      "text/html": [
       "\n",
       "            <div>\n",
       "                <p><b>SparkSession - in-memory</b></p>\n",
       "                \n",
       "        <div>\n",
       "            <p><b>SparkContext</b></p>\n",
       "\n",
       "            <p><a href=\"http://192.168.1.6:4040\">Spark UI</a></p>\n",
       "\n",
       "            <dl>\n",
       "              <dt>Version</dt>\n",
       "                <dd><code>v3.5.4</code></dd>\n",
       "              <dt>Master</dt>\n",
       "                <dd><code>local[*]</code></dd>\n",
       "              <dt>AppName</dt>\n",
       "                <dd><code>identify dreamleague sessions</code></dd>\n",
       "            </dl>\n",
       "        </div>\n",
       "        \n",
       "            </div>\n",
       "        "
      ],
      "text/plain": [
       "<pyspark.sql.session.SparkSession at 0x105347dd0>"
      ]
     },
     "execution_count": 2,
     "metadata": {},
     "output_type": "execute_result"
    }
   ],
   "source": [
    "spark"
   ]
  },
  {
   "cell_type": "code",
   "execution_count": 3,
   "id": "c7c747ad-06db-4139-bf4b-85fa3b212b6f",
   "metadata": {},
   "outputs": [],
   "source": [
    "vod_csv_path = f\"/Users/hari14/Desktop/PHD/twitch_emotes_analytics_project/data/videos_on_demand_urls/esl_dota2_vods.csv\""
   ]
  },
  {
   "cell_type": "code",
   "execution_count": 4,
   "id": "c2fa1b36-fadd-4767-9f41-de5b6df24c9e",
   "metadata": {},
   "outputs": [
    {
     "name": "stderr",
     "output_type": "stream",
     "text": [
      "ANTLR Tool version 4.9.3 used for code generation does not match the current runtime version 4.7ANTLR Runtime version 4.9.3 used for parser compilation does not match the current runtime version 4.7ANTLR Tool version 4.9.3 used for code generation does not match the current runtime version 4.7ANTLR Runtime version 4.9.3 used for parser compilation does not match the current runtime version 4.7"
     ]
    }
   ],
   "source": [
    "df = spark.read.format(\"csv\") \\\n",
    "               .option(\"header\", True) \\\n",
    "               .option(\"inferSchema\", True) \\\n",
    "               .load(vod_csv_path)"
   ]
  },
  {
   "cell_type": "code",
   "execution_count": 30,
   "id": "c9b675ed-3f9e-4df6-8041-99e5ea41ef09",
   "metadata": {},
   "outputs": [
    {
     "name": "stdout",
     "output_type": "stream",
     "text": [
      "root\n",
      " |-- id: string (nullable = true)\n",
      " |-- title: string (nullable = true)\n",
      " |-- created_at: timestamp (nullable = true)\n",
      " |-- duration: string (nullable = true)\n",
      " |-- url: string (nullable = true)\n",
      "\n"
     ]
    }
   ],
   "source": [
    "df.printSchema()"
   ]
  },
  {
   "cell_type": "code",
   "execution_count": 28,
   "id": "cc7ee973-2b06-4ec8-bb3b-274469da9bca",
   "metadata": {},
   "outputs": [],
   "source": [
    "from pyspark.sql.functions import to_timestamp"
   ]
  },
  {
   "cell_type": "code",
   "execution_count": 29,
   "id": "9ce17228-645f-41e3-977f-929565da2ef5",
   "metadata": {},
   "outputs": [],
   "source": [
    "df = df.withColumn(\"created_at\", to_timestamp(\"created_at\"))"
   ]
  },
  {
   "cell_type": "code",
   "execution_count": 31,
   "id": "fb7a2455-8cb3-4ffa-a6a4-de0fc218f535",
   "metadata": {},
   "outputs": [],
   "source": [
    "df.createOrReplaceTempView(\"vod\")"
   ]
  },
  {
   "cell_type": "code",
   "execution_count": 24,
   "id": "afce578c-c89b-4d9a-9c70-18db4dd8b4e6",
   "metadata": {},
   "outputs": [],
   "source": [
    "query = \"\"\"\n",
    "select title\n",
    "from vod\n",
    "where lower(title) LIKE '%dream%'\n",
    "\"\"\""
   ]
  },
  {
   "cell_type": "code",
   "execution_count": 25,
   "id": "37969460-364c-4472-a87b-86ea45c9178a",
   "metadata": {},
   "outputs": [
    {
     "name": "stdout",
     "output_type": "stream",
     "text": [
      "+------------+\n",
      "|count(title)|\n",
      "+------------+\n",
      "|207         |\n",
      "+------------+\n",
      "\n"
     ]
    }
   ],
   "source": [
    "spark.sql(query).show(truncate = False)"
   ]
  },
  {
   "cell_type": "code",
   "execution_count": 34,
   "id": "3ddedc54-9218-45e4-b7ad-7dd9a6008a08",
   "metadata": {},
   "outputs": [],
   "source": [
    "query = \"\"\"\n",
    "select title, created_at\n",
    "from vod\n",
    "where lower(title) LIKE '%league%'\n",
    "order by created_at\n",
    "\"\"\""
   ]
  },
  {
   "cell_type": "code",
   "execution_count": 35,
   "id": "ec1db1c7-d6df-4fd6-a00e-15bfca17c2c7",
   "metadata": {},
   "outputs": [
    {
     "name": "stdout",
     "output_type": "stream",
     "text": [
      "+-------------------------------------------------------------------------------------------------+-------------------+\n",
      "|title                                                                                            |created_at         |\n",
      "+-------------------------------------------------------------------------------------------------+-------------------+\n",
      "|RECAP: OG vs HIGH COAST - DPC EU UPPER DIVISION - DREAMLEAGUE S14 DOTA 2 - by @NoobFromUA        |2021-05-26 23:46:55|\n",
      "|RECAP: NIGMA vs HIGH COAST - DPC EU 2021 WINTER LEAGUE - DREAMLEAGUE S14 DOTA 2 - by @NoobFromUA |2021-05-31 14:12:38|\n",
      "|RECAP: OG vs VIKIN.GG - INCREDIBLE DPC EU - DREAMLEAGUE S14 DOTA 2 - by @NoobFromUA              |2021-06-02 14:12:53|\n",
      "|RECAP: NIGMA vs SECRET -  SUPER GAME - DPC EU DREAMLEAGUE S14 DOTA 2 - by @NoobFromUA            |2021-06-04 14:13:12|\n",
      "|RECAP: NIGMA vs LIQUID - GREAT GAME - DPC EU DREAMLEAGUE S14 DOTA 2 - by @NoobFromUA             |2021-06-06 14:13:20|\n",
      "|RECAP: OG vs LIQUID - FINAL GAME - DPC EU DREAMLEAGUE S15 DOTA 2 - by @NoobFromUA                |2021-06-08 17:37:06|\n",
      "|RECAP: OG vs ALLIANCE -  WHAT A GAME - DPC EU DREAMLEAGUE S15 DOTA 2 - by @NoobFromUA            |2021-06-08 19:02:34|\n",
      "|RECAP: OG vs ALLIANCE -  WHAT A GAME - DPC EU DREAMLEAGUE S15 DOTA 2 - by @NoobFromUA            |2021-06-10 19:02:49|\n",
      "|RECAP: NIGMA vs SECRET - NEW ROSTER DEBUT + iLTW - DPC EU DREAMLEAGUE S15 DOTA 2 - by @NoobFromUA|2021-06-12 19:05:26|\n",
      "|RECAP: OG vs VIKIN.GG - INCREDIBLE DPC EU - DREAMLEAGUE S14 DOTA 2 - by @NoobFromUA              |2021-06-14 14:08:28|\n",
      "|RECAP: NIGMA vs SECRET -  SUPER GAME - DPC EU DREAMLEAGUE S14 DOTA 2 - by @NoobFromUA            |2021-06-16 14:08:38|\n",
      "|RECAP: OG vs Hellbear Smashers - UPPER DIVISON - DPC EU DREAMLEAGUE S15 DOTA 2 - by @NoobFromUA  |2021-09-19 17:03:37|\n",
      "|RECAP: OG vs TUNDRA - TIEBREAKER - DPC EU 2021 DREAMLEAGUE S14 DOTA 2 - by @NoobFromUA           |2021-09-21 17:03:53|\n",
      "|RECAP: OG vs ALLIANCE -  GAME OF THE DAY - DPC EU DREAMLEAGUE S14 DOTA 2 - by @NoobFromUA        |2021-09-23 17:04:02|\n",
      "|RECAP: NIGMA vs OG - TI CHAMPIONS GAME - DPC EU DREAMLEAGUE S14 DOTA 2 - by @NoobFromUA          |2021-10-03 01:54:05|\n",
      "|RECAP: OG vs TUNDRA - TIEBREAKER - DPC EU 2021 DREAMLEAGUE S14 DOTA 2 - by @NoobFromUA           |2021-10-12 13:35:14|\n",
      "|RECAP: OG vs ALLIANCE -  GAME OF THE DAY - DPC EU DREAMLEAGUE S14 DOTA 2 - by @NoobFromUA        |2021-10-14 13:35:30|\n",
      "|RECAP: NIGMA vs TUNDRA -  DPC EU 2021 WINTER LEAGUE - DREAMLEAGUE S14 DOTA 2 - by @NoobFromUA    |2021-10-17 00:52:13|\n",
      "|RECAP: OG vs SECRET - AMAZING GAME - DPC EU DREAMLEAGUE S15 DOTA 2 - by @NoobFromUA              |2021-10-19 00:52:28|\n",
      "|RECAP: OG vs ALLIANCE -  GAME OF THE DAY - DPC EU DREAMLEAGUE S14 DOTA 2 - by @NoobFromUA        |2021-10-26 03:39:07|\n",
      "+-------------------------------------------------------------------------------------------------+-------------------+\n",
      "only showing top 20 rows\n",
      "\n"
     ]
    }
   ],
   "source": [
    "spark.sql(query).show(truncate = False)"
   ]
  },
  {
   "cell_type": "code",
   "execution_count": null,
   "id": "38dbfd87-1e73-4448-a94f-f54609c8bcc7",
   "metadata": {},
   "outputs": [],
   "source": []
  }
 ],
 "metadata": {
  "kernelspec": {
   "display_name": "Python 3 (ipykernel)",
   "language": "python",
   "name": "python3"
  },
  "language_info": {
   "codemirror_mode": {
    "name": "ipython",
    "version": 3
   },
   "file_extension": ".py",
   "mimetype": "text/x-python",
   "name": "python",
   "nbconvert_exporter": "python",
   "pygments_lexer": "ipython3",
   "version": "3.12.4"
  }
 },
 "nbformat": 4,
 "nbformat_minor": 5
}
