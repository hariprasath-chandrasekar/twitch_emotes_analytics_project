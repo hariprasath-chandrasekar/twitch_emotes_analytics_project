{
 "cells": [
  {
   "cell_type": "code",
   "execution_count": 1,
   "id": "12ac7862-2318-441a-ab72-1f1e71d049d2",
   "metadata": {},
   "outputs": [],
   "source": [
    "from pyspark.sql import SparkSession\n",
    "from pyspark.sql.functions import col, explode, to_timestamp, expr, lit \n",
    "import boto3\n",
    "import os\n",
    "import glob\n",
    "import shutil"
   ]
  },
  {
   "cell_type": "code",
   "execution_count": 2,
   "id": "f97380ee-8341-4a2d-ab39-8bceda41638a",
   "metadata": {},
   "outputs": [
    {
     "name": "stderr",
     "output_type": "stream",
     "text": [
      "Setting default log level to \"WARN\".\n",
      "To adjust logging level use sc.setLogLevel(newLevel). For SparkR, use setLogLevel(newLevel).\n",
      "25/07/06 15:33:11 WARN NativeCodeLoader: Unable to load native-hadoop library for your platform... using builtin-java classes where applicable\n"
     ]
    }
   ],
   "source": [
    "# Start pySpark session\n",
    "spark = SparkSession.builder \\\n",
    "                    .appName(\"twitch_emotes_analytics_project\") \\\n",
    "                    .master(\"local[*]\") \\\n",
    "                    .getOrCreate()"
   ]
  },
  {
   "cell_type": "code",
   "execution_count": 15,
   "id": "a5cc7f5a-9801-451a-84d6-d0cf3509bd2d",
   "metadata": {},
   "outputs": [
    {
     "name": "stdin",
     "output_type": "stream",
     "text": [
      "Please Enter the Channel Name:  esl_dota2\n",
      "Please Enter the Chat Years (comma-separated):  2013\n"
     ]
    },
    {
     "name": "stdout",
     "output_type": "stream",
     "text": [
      "['2013']\n"
     ]
    }
   ],
   "source": [
    "# Input from user\n",
    "channel_name = input(\"Please Enter the Channel Name: \")\n",
    "chat_years_input = input(\"Please Enter the Chat Years (comma-separated): \")\n",
    "# Convert input to list of years\n",
    "chat_years = [year.strip() for year in chat_years_input.split(\",\") if year.strip().isdigit() and len(year.strip()) == 4]\n",
    "print(chat_years)"
   ]
  },
  {
   "cell_type": "code",
   "execution_count": 3,
   "id": "be1c3d45-d158-42e8-af60-6e6a9af0e1b7",
   "metadata": {},
   "outputs": [],
   "source": [
    "# S3 setup\n",
    "bucket = \"twitch-emotes-analytics-project\"\n",
    "s3 = boto3.client(\"s3\")"
   ]
  },
  {
   "cell_type": "code",
   "execution_count": 18,
   "id": "7a3e13d2-e5fd-4731-898e-cd6e044089c0",
   "metadata": {},
   "outputs": [],
   "source": [
    "# Local paths\n",
    "local_path = \"/Users/hari14/Desktop/PHD/twitch_emotes_analytics_project/data/processed_silver/\""
   ]
  },
  {
   "cell_type": "code",
   "execution_count": 19,
   "id": "2e0a9ff7-f8f8-4ecf-a2d2-610610a7f43a",
   "metadata": {},
   "outputs": [],
   "source": [
    "# order raw s3 files\n",
    "def order_files(json_files):\n",
    "    try:\n",
    "        return sorted(\n",
    "            json_files,\n",
    "            key=lambda x: int(os.path.basename(x).replace(\".json\", \"\").split(\"_\")[-2])\n",
    "        )\n",
    "    except (IndexError, ValueError) as e:\n",
    "        raise ValueError(f\"Filename parsing failed: {e}\")"
   ]
  },
  {
   "cell_type": "code",
   "execution_count": 21,
   "id": "a75b9951-1cf8-4c08-95c3-96509e88e646",
   "metadata": {},
   "outputs": [],
   "source": [
    "# channel_name = \"esl_dota2\"\n",
    "# chat_year = \"2016\""
   ]
  },
  {
   "cell_type": "code",
   "execution_count": 22,
   "id": "93170a8c-6b3b-4e36-9e10-e054780fa43b",
   "metadata": {},
   "outputs": [
    {
     "name": "stdout",
     "output_type": "stream",
     "text": [
      "data/raw_bronze/esl_dota2/2016/\n"
     ]
    }
   ],
   "source": [
    "s3_key_prefix = f\"data/raw_bronze/{channel_name}/{chat_year}/\"\n",
    "print(s3_key_prefix)"
   ]
  },
  {
   "cell_type": "code",
   "execution_count": 23,
   "id": "f7da1d07-6d88-4c0d-8a01-df32b7b4e709",
   "metadata": {},
   "outputs": [],
   "source": [
    "response = s3.list_objects_v2(Bucket=bucket, Prefix=s3_key_prefix)"
   ]
  },
  {
   "cell_type": "code",
   "execution_count": 24,
   "id": "3e7c7872-808a-486e-8bbf-facf2d39172a",
   "metadata": {},
   "outputs": [],
   "source": [
    "contents = response.get(\"Contents\", [])"
   ]
  },
  {
   "cell_type": "code",
   "execution_count": 25,
   "id": "3fb133be-bbde-4add-8755-330893d1c3f2",
   "metadata": {},
   "outputs": [],
   "source": [
    "if not contents:\n",
    "        print(f\"🚫 No files found at S3 path: {s3_key_prefix}\")"
   ]
  },
  {
   "cell_type": "code",
   "execution_count": 26,
   "id": "c8fedc66-da2a-46d2-bc26-b09582e8432a",
   "metadata": {},
   "outputs": [],
   "source": [
    "json_files = [i[\"Key\"] for i in contents]"
   ]
  },
  {
   "cell_type": "code",
   "execution_count": 27,
   "id": "65a24987-82ae-4ec4-b4d4-b801bfb9707f",
   "metadata": {},
   "outputs": [
    {
     "data": {
      "text/plain": [
       "['data/raw_bronze/esl_dota2/2016/esl_dota2_2016_000_58748633.json',\n",
       " 'data/raw_bronze/esl_dota2/2016/esl_dota2_2016_002_58820720.json',\n",
       " 'data/raw_bronze/esl_dota2/2016/esl_dota2_2016_003_58918503.json',\n",
       " 'data/raw_bronze/esl_dota2/2016/esl_dota2_2016_004_59285035.json',\n",
       " 'data/raw_bronze/esl_dota2/2016/esl_dota2_2016_005_59410946.json',\n",
       " 'data/raw_bronze/esl_dota2/2016/esl_dota2_2016_006_59474511.json',\n",
       " 'data/raw_bronze/esl_dota2/2016/esl_dota2_2016_007_59482312.json',\n",
       " 'data/raw_bronze/esl_dota2/2016/esl_dota2_2016_008_59483053.json',\n",
       " 'data/raw_bronze/esl_dota2/2016/esl_dota2_2016_009_59544034.json',\n",
       " 'data/raw_bronze/esl_dota2/2016/esl_dota2_2016_010_59544611.json',\n",
       " 'data/raw_bronze/esl_dota2/2016/esl_dota2_2016_011_59913154.json',\n",
       " 'data/raw_bronze/esl_dota2/2016/esl_dota2_2016_012_60310974.json',\n",
       " 'data/raw_bronze/esl_dota2/2016/esl_dota2_2016_013_60334251.json',\n",
       " 'data/raw_bronze/esl_dota2/2016/esl_dota2_2016_014_60485047.json',\n",
       " 'data/raw_bronze/esl_dota2/2016/esl_dota2_2016_015_60902567.json',\n",
       " 'data/raw_bronze/esl_dota2/2016/esl_dota2_2016_016_61337256.json',\n",
       " 'data/raw_bronze/esl_dota2/2016/esl_dota2_2016_017_61349148.json',\n",
       " 'data/raw_bronze/esl_dota2/2016/esl_dota2_2016_018_61728003.json',\n",
       " 'data/raw_bronze/esl_dota2/2016/esl_dota2_2016_019_62053197.json',\n",
       " 'data/raw_bronze/esl_dota2/2016/esl_dota2_2016_020_62055565.json',\n",
       " 'data/raw_bronze/esl_dota2/2016/esl_dota2_2016_021_62055869.json',\n",
       " 'data/raw_bronze/esl_dota2/2016/esl_dota2_2016_022_62058431.json',\n",
       " 'data/raw_bronze/esl_dota2/2016/esl_dota2_2016_023_62061494.json',\n",
       " 'data/raw_bronze/esl_dota2/2016/esl_dota2_2016_024_62103730.json',\n",
       " 'data/raw_bronze/esl_dota2/2016/esl_dota2_2016_025_62136089.json',\n",
       " 'data/raw_bronze/esl_dota2/2016/esl_dota2_2016_026_62140748.json',\n",
       " 'data/raw_bronze/esl_dota2/2016/esl_dota2_2016_027_62250746.json',\n",
       " 'data/raw_bronze/esl_dota2/2016/esl_dota2_2016_028_62254435.json',\n",
       " 'data/raw_bronze/esl_dota2/2016/esl_dota2_2016_029_62372708.json',\n",
       " 'data/raw_bronze/esl_dota2/2016/esl_dota2_2016_030_62419706.json',\n",
       " 'data/raw_bronze/esl_dota2/2016/esl_dota2_2016_031_62472064.json',\n",
       " 'data/raw_bronze/esl_dota2/2016/esl_dota2_2016_032_62502788.json',\n",
       " 'data/raw_bronze/esl_dota2/2016/esl_dota2_2016_033_62549910.json',\n",
       " 'data/raw_bronze/esl_dota2/2016/esl_dota2_2016_034_62895452.json',\n",
       " 'data/raw_bronze/esl_dota2/2016/esl_dota2_2016_035_62916602.json',\n",
       " 'data/raw_bronze/esl_dota2/2016/esl_dota2_2016_036_64088190.json',\n",
       " 'data/raw_bronze/esl_dota2/2016/esl_dota2_2016_037_64320524.json',\n",
       " 'data/raw_bronze/esl_dota2/2016/esl_dota2_2016_038_64713142.json',\n",
       " 'data/raw_bronze/esl_dota2/2016/esl_dota2_2016_039_65098896.json',\n",
       " 'data/raw_bronze/esl_dota2/2016/esl_dota2_2016_040_65134169.json',\n",
       " 'data/raw_bronze/esl_dota2/2016/esl_dota2_2016_041_65500735.json',\n",
       " 'data/raw_bronze/esl_dota2/2016/esl_dota2_2016_042_65735654.json',\n",
       " 'data/raw_bronze/esl_dota2/2016/esl_dota2_2016_043_66088079.json',\n",
       " 'data/raw_bronze/esl_dota2/2016/esl_dota2_2016_044_66355361.json',\n",
       " 'data/raw_bronze/esl_dota2/2016/esl_dota2_2016_045_66552254.json',\n",
       " 'data/raw_bronze/esl_dota2/2016/esl_dota2_2016_046_66939313.json',\n",
       " 'data/raw_bronze/esl_dota2/2016/esl_dota2_2016_047_67240304.json',\n",
       " 'data/raw_bronze/esl_dota2/2016/esl_dota2_2016_048_67317742.json',\n",
       " 'data/raw_bronze/esl_dota2/2016/esl_dota2_2016_049_67696268.json',\n",
       " 'data/raw_bronze/esl_dota2/2016/esl_dota2_2016_050_67809147.json',\n",
       " 'data/raw_bronze/esl_dota2/2016/esl_dota2_2016_051_68190869.json',\n",
       " 'data/raw_bronze/esl_dota2/2016/esl_dota2_2016_052_68303028.json',\n",
       " 'data/raw_bronze/esl_dota2/2016/esl_dota2_2016_053_68357287.json',\n",
       " 'data/raw_bronze/esl_dota2/2016/esl_dota2_2016_054_68540441.json',\n",
       " 'data/raw_bronze/esl_dota2/2016/esl_dota2_2016_055_68796047.json',\n",
       " 'data/raw_bronze/esl_dota2/2016/esl_dota2_2016_056_68978993.json',\n",
       " 'data/raw_bronze/esl_dota2/2016/esl_dota2_2016_057_69394642.json',\n",
       " 'data/raw_bronze/esl_dota2/2016/esl_dota2_2016_058_69775181.json',\n",
       " 'data/raw_bronze/esl_dota2/2016/esl_dota2_2016_059_70155739.json',\n",
       " 'data/raw_bronze/esl_dota2/2016/esl_dota2_2016_060_70851477.json',\n",
       " 'data/raw_bronze/esl_dota2/2016/esl_dota2_2016_061_71042155.json',\n",
       " 'data/raw_bronze/esl_dota2/2016/esl_dota2_2016_062_71423950.json',\n",
       " 'data/raw_bronze/esl_dota2/2016/esl_dota2_2016_063_71527234.json',\n",
       " 'data/raw_bronze/esl_dota2/2016/esl_dota2_2016_064_71905106.json',\n",
       " 'data/raw_bronze/esl_dota2/2016/esl_dota2_2016_065_72274368.json',\n",
       " 'data/raw_bronze/esl_dota2/2016/esl_dota2_2016_066_72643365.json',\n",
       " 'data/raw_bronze/esl_dota2/2016/esl_dota2_2016_067_72752827.json',\n",
       " 'data/raw_bronze/esl_dota2/2016/esl_dota2_2016_068_72903608.json',\n",
       " 'data/raw_bronze/esl_dota2/2016/esl_dota2_2016_069_73014162.json',\n",
       " 'data/raw_bronze/esl_dota2/2016/esl_dota2_2016_070_73095890.json',\n",
       " 'data/raw_bronze/esl_dota2/2016/esl_dota2_2016_071_73096810.json',\n",
       " 'data/raw_bronze/esl_dota2/2016/esl_dota2_2016_072_73206672.json',\n",
       " 'data/raw_bronze/esl_dota2/2016/esl_dota2_2016_073_73286486.json',\n",
       " 'data/raw_bronze/esl_dota2/2016/esl_dota2_2016_074_73376948.json',\n",
       " 'data/raw_bronze/esl_dota2/2016/esl_dota2_2016_075_73468162.json',\n",
       " 'data/raw_bronze/esl_dota2/2016/esl_dota2_2016_076_73483568.json',\n",
       " 'data/raw_bronze/esl_dota2/2016/esl_dota2_2016_077_73801669.json',\n",
       " 'data/raw_bronze/esl_dota2/2016/esl_dota2_2016_078_74159695.json',\n",
       " 'data/raw_bronze/esl_dota2/2016/esl_dota2_2016_079_74468522.json',\n",
       " 'data/raw_bronze/esl_dota2/2016/esl_dota2_2016_080_74619370.json',\n",
       " 'data/raw_bronze/esl_dota2/2016/esl_dota2_2016_081_74854544.json',\n",
       " 'data/raw_bronze/esl_dota2/2016/esl_dota2_2016_082_75248426.json',\n",
       " 'data/raw_bronze/esl_dota2/2016/esl_dota2_2016_083_75390735.json',\n",
       " 'data/raw_bronze/esl_dota2/2016/esl_dota2_2016_084_75779080.json',\n",
       " 'data/raw_bronze/esl_dota2/2016/esl_dota2_2016_085_76070737.json',\n",
       " 'data/raw_bronze/esl_dota2/2016/esl_dota2_2016_086_76270172.json',\n",
       " 'data/raw_bronze/esl_dota2/2016/esl_dota2_2016_087_76639253.json',\n",
       " 'data/raw_bronze/esl_dota2/2016/esl_dota2_2016_088_76700241.json',\n",
       " 'data/raw_bronze/esl_dota2/2016/esl_dota2_2016_089_77070752.json',\n",
       " 'data/raw_bronze/esl_dota2/2016/esl_dota2_2016_090_77429206.json',\n",
       " 'data/raw_bronze/esl_dota2/2016/esl_dota2_2016_091_77489836.json',\n",
       " 'data/raw_bronze/esl_dota2/2016/esl_dota2_2016_092_77773659.json',\n",
       " 'data/raw_bronze/esl_dota2/2016/esl_dota2_2016_093_78292825.json',\n",
       " 'data/raw_bronze/esl_dota2/2016/esl_dota2_2016_094_78643398.json',\n",
       " 'data/raw_bronze/esl_dota2/2016/esl_dota2_2016_095_78869718.json',\n",
       " 'data/raw_bronze/esl_dota2/2016/esl_dota2_2016_096_79125347.json',\n",
       " 'data/raw_bronze/esl_dota2/2016/esl_dota2_2016_097_79469842.json',\n",
       " 'data/raw_bronze/esl_dota2/2016/esl_dota2_2016_098_79555685.json',\n",
       " 'data/raw_bronze/esl_dota2/2016/esl_dota2_2016_099_79620614.json',\n",
       " 'data/raw_bronze/esl_dota2/2016/esl_dota2_2016_100_79959054.json',\n",
       " 'data/raw_bronze/esl_dota2/2016/esl_dota2_2016_101_80316321.json',\n",
       " 'data/raw_bronze/esl_dota2/2016/esl_dota2_2016_102_80672691.json',\n",
       " 'data/raw_bronze/esl_dota2/2016/esl_dota2_2016_103_81035214.json',\n",
       " 'data/raw_bronze/esl_dota2/2016/esl_dota2_2016_104_81319606.json',\n",
       " 'data/raw_bronze/esl_dota2/2016/esl_dota2_2016_105_81521629.json',\n",
       " 'data/raw_bronze/esl_dota2/2016/esl_dota2_2016_106_81612841.json',\n",
       " 'data/raw_bronze/esl_dota2/2016/esl_dota2_2016_107_81648898.json',\n",
       " 'data/raw_bronze/esl_dota2/2016/esl_dota2_2016_108_81879179.json',\n",
       " 'data/raw_bronze/esl_dota2/2016/esl_dota2_2016_109_82238571.json',\n",
       " 'data/raw_bronze/esl_dota2/2016/esl_dota2_2016_110_82256509.json',\n",
       " 'data/raw_bronze/esl_dota2/2016/esl_dota2_2016_111_82258160.json',\n",
       " 'data/raw_bronze/esl_dota2/2016/esl_dota2_2016_112_82258274.json',\n",
       " 'data/raw_bronze/esl_dota2/2016/esl_dota2_2016_113_82611294.json',\n",
       " 'data/raw_bronze/esl_dota2/2016/esl_dota2_2016_114_82987320.json',\n",
       " 'data/raw_bronze/esl_dota2/2016/esl_dota2_2016_115_83004986.json',\n",
       " 'data/raw_bronze/esl_dota2/2016/esl_dota2_2016_116_83057129.json',\n",
       " 'data/raw_bronze/esl_dota2/2016/esl_dota2_2016_117_83154572.json',\n",
       " 'data/raw_bronze/esl_dota2/2016/esl_dota2_2016_118_83319992.json',\n",
       " 'data/raw_bronze/esl_dota2/2016/esl_dota2_2016_119_83385921.json',\n",
       " 'data/raw_bronze/esl_dota2/2016/esl_dota2_2016_120_83459976.json',\n",
       " 'data/raw_bronze/esl_dota2/2016/esl_dota2_2016_121_83576319.json',\n",
       " 'data/raw_bronze/esl_dota2/2016/esl_dota2_2016_122_83729007.json',\n",
       " 'data/raw_bronze/esl_dota2/2016/esl_dota2_2016_123_83921159.json',\n",
       " 'data/raw_bronze/esl_dota2/2016/esl_dota2_2016_125_84071290.json',\n",
       " 'data/raw_bronze/esl_dota2/2016/esl_dota2_2016_126_84117204.json',\n",
       " 'data/raw_bronze/esl_dota2/2016/esl_dota2_2016_127_84130454.json',\n",
       " 'data/raw_bronze/esl_dota2/2016/esl_dota2_2016_128_84254089.json',\n",
       " 'data/raw_bronze/esl_dota2/2016/esl_dota2_2016_129_84327642.json',\n",
       " 'data/raw_bronze/esl_dota2/2016/esl_dota2_2016_130_84520462.json',\n",
       " 'data/raw_bronze/esl_dota2/2016/esl_dota2_2016_132_84737745.json',\n",
       " 'data/raw_bronze/esl_dota2/2016/esl_dota2_2016_133_84895789.json',\n",
       " 'data/raw_bronze/esl_dota2/2016/esl_dota2_2016_136_85007146.json',\n",
       " 'data/raw_bronze/esl_dota2/2016/esl_dota2_2016_137_85229909.json',\n",
       " 'data/raw_bronze/esl_dota2/2016/esl_dota2_2016_139_85293569.json',\n",
       " 'data/raw_bronze/esl_dota2/2016/esl_dota2_2016_140_85378817.json',\n",
       " 'data/raw_bronze/esl_dota2/2016/esl_dota2_2016_141_85397875.json',\n",
       " 'data/raw_bronze/esl_dota2/2016/esl_dota2_2016_142_85412697.json',\n",
       " 'data/raw_bronze/esl_dota2/2016/esl_dota2_2016_144_85964332.json',\n",
       " 'data/raw_bronze/esl_dota2/2016/esl_dota2_2016_145_86349676.json',\n",
       " 'data/raw_bronze/esl_dota2/2016/esl_dota2_2016_146_86747323.json',\n",
       " 'data/raw_bronze/esl_dota2/2016/esl_dota2_2016_147_86924772.json',\n",
       " 'data/raw_bronze/esl_dota2/2016/esl_dota2_2016_148_87293934.json',\n",
       " 'data/raw_bronze/esl_dota2/2016/esl_dota2_2016_149_87427111.json',\n",
       " 'data/raw_bronze/esl_dota2/2016/esl_dota2_2016_150_87810797.json',\n",
       " 'data/raw_bronze/esl_dota2/2016/esl_dota2_2016_151_88148524.json',\n",
       " 'data/raw_bronze/esl_dota2/2016/esl_dota2_2016_152_88488559.json',\n",
       " 'data/raw_bronze/esl_dota2/2016/esl_dota2_2016_153_88760053.json',\n",
       " 'data/raw_bronze/esl_dota2/2016/esl_dota2_2016_154_88805044.json',\n",
       " 'data/raw_bronze/esl_dota2/2016/esl_dota2_2016_155_88813779.json',\n",
       " 'data/raw_bronze/esl_dota2/2016/esl_dota2_2016_156_89149573.json',\n",
       " 'data/raw_bronze/esl_dota2/2016/esl_dota2_2016_157_89359277.json',\n",
       " 'data/raw_bronze/esl_dota2/2016/esl_dota2_2016_158_89359857.json',\n",
       " 'data/raw_bronze/esl_dota2/2016/esl_dota2_2016_159_89444365.json',\n",
       " 'data/raw_bronze/esl_dota2/2016/esl_dota2_2016_160_89444580.json',\n",
       " 'data/raw_bronze/esl_dota2/2016/esl_dota2_2016_161_89531700.json',\n",
       " 'data/raw_bronze/esl_dota2/2016/esl_dota2_2016_162_89910781.json',\n",
       " 'data/raw_bronze/esl_dota2/2016/esl_dota2_2016_164_90010168.json',\n",
       " 'data/raw_bronze/esl_dota2/2016/esl_dota2_2016_165_90124085.json',\n",
       " 'data/raw_bronze/esl_dota2/2016/esl_dota2_2016_166_90375241.json',\n",
       " 'data/raw_bronze/esl_dota2/2016/esl_dota2_2016_167_90727976.json',\n",
       " 'data/raw_bronze/esl_dota2/2016/esl_dota2_2016_168_91096207.json',\n",
       " 'data/raw_bronze/esl_dota2/2016/esl_dota2_2016_169_91283138.json',\n",
       " 'data/raw_bronze/esl_dota2/2016/esl_dota2_2016_170_91452267.json',\n",
       " 'data/raw_bronze/esl_dota2/2016/esl_dota2_2016_171_91551214.json',\n",
       " 'data/raw_bronze/esl_dota2/2016/esl_dota2_2016_208_91822137.json',\n",
       " 'data/raw_bronze/esl_dota2/2016/esl_dota2_2016_213_91905450.json',\n",
       " 'data/raw_bronze/esl_dota2/2016/esl_dota2_2016_214_92245563.json',\n",
       " 'data/raw_bronze/esl_dota2/2016/esl_dota2_2016_215_92654181.json',\n",
       " 'data/raw_bronze/esl_dota2/2016/esl_dota2_2016_216_93002034.json',\n",
       " 'data/raw_bronze/esl_dota2/2016/esl_dota2_2016_217_93893088.json',\n",
       " 'data/raw_bronze/esl_dota2/2016/esl_dota2_2016_218_95288661.json']"
      ]
     },
     "execution_count": 27,
     "metadata": {},
     "output_type": "execute_result"
    }
   ],
   "source": [
    "json_files"
   ]
  },
  {
   "cell_type": "code",
   "execution_count": 28,
   "id": "d86d2ed3-88f9-433a-be24-56d85cf4f8c4",
   "metadata": {},
   "outputs": [],
   "source": [
    "sorted_json_files = order_files(json_files)"
   ]
  },
  {
   "cell_type": "code",
   "execution_count": 29,
   "id": "49883e52-cab3-401e-896d-418556f851a2",
   "metadata": {},
   "outputs": [
    {
     "data": {
      "text/plain": [
       "['data/raw_bronze/esl_dota2/2016/esl_dota2_2016_000_58748633.json',\n",
       " 'data/raw_bronze/esl_dota2/2016/esl_dota2_2016_002_58820720.json',\n",
       " 'data/raw_bronze/esl_dota2/2016/esl_dota2_2016_003_58918503.json',\n",
       " 'data/raw_bronze/esl_dota2/2016/esl_dota2_2016_004_59285035.json',\n",
       " 'data/raw_bronze/esl_dota2/2016/esl_dota2_2016_005_59410946.json',\n",
       " 'data/raw_bronze/esl_dota2/2016/esl_dota2_2016_006_59474511.json',\n",
       " 'data/raw_bronze/esl_dota2/2016/esl_dota2_2016_007_59482312.json',\n",
       " 'data/raw_bronze/esl_dota2/2016/esl_dota2_2016_008_59483053.json',\n",
       " 'data/raw_bronze/esl_dota2/2016/esl_dota2_2016_009_59544034.json',\n",
       " 'data/raw_bronze/esl_dota2/2016/esl_dota2_2016_010_59544611.json',\n",
       " 'data/raw_bronze/esl_dota2/2016/esl_dota2_2016_011_59913154.json',\n",
       " 'data/raw_bronze/esl_dota2/2016/esl_dota2_2016_012_60310974.json',\n",
       " 'data/raw_bronze/esl_dota2/2016/esl_dota2_2016_013_60334251.json',\n",
       " 'data/raw_bronze/esl_dota2/2016/esl_dota2_2016_014_60485047.json',\n",
       " 'data/raw_bronze/esl_dota2/2016/esl_dota2_2016_015_60902567.json',\n",
       " 'data/raw_bronze/esl_dota2/2016/esl_dota2_2016_016_61337256.json',\n",
       " 'data/raw_bronze/esl_dota2/2016/esl_dota2_2016_017_61349148.json',\n",
       " 'data/raw_bronze/esl_dota2/2016/esl_dota2_2016_018_61728003.json',\n",
       " 'data/raw_bronze/esl_dota2/2016/esl_dota2_2016_019_62053197.json',\n",
       " 'data/raw_bronze/esl_dota2/2016/esl_dota2_2016_020_62055565.json',\n",
       " 'data/raw_bronze/esl_dota2/2016/esl_dota2_2016_021_62055869.json',\n",
       " 'data/raw_bronze/esl_dota2/2016/esl_dota2_2016_022_62058431.json',\n",
       " 'data/raw_bronze/esl_dota2/2016/esl_dota2_2016_023_62061494.json',\n",
       " 'data/raw_bronze/esl_dota2/2016/esl_dota2_2016_024_62103730.json',\n",
       " 'data/raw_bronze/esl_dota2/2016/esl_dota2_2016_025_62136089.json',\n",
       " 'data/raw_bronze/esl_dota2/2016/esl_dota2_2016_026_62140748.json',\n",
       " 'data/raw_bronze/esl_dota2/2016/esl_dota2_2016_027_62250746.json',\n",
       " 'data/raw_bronze/esl_dota2/2016/esl_dota2_2016_028_62254435.json',\n",
       " 'data/raw_bronze/esl_dota2/2016/esl_dota2_2016_029_62372708.json',\n",
       " 'data/raw_bronze/esl_dota2/2016/esl_dota2_2016_030_62419706.json',\n",
       " 'data/raw_bronze/esl_dota2/2016/esl_dota2_2016_031_62472064.json',\n",
       " 'data/raw_bronze/esl_dota2/2016/esl_dota2_2016_032_62502788.json',\n",
       " 'data/raw_bronze/esl_dota2/2016/esl_dota2_2016_033_62549910.json',\n",
       " 'data/raw_bronze/esl_dota2/2016/esl_dota2_2016_034_62895452.json',\n",
       " 'data/raw_bronze/esl_dota2/2016/esl_dota2_2016_035_62916602.json',\n",
       " 'data/raw_bronze/esl_dota2/2016/esl_dota2_2016_036_64088190.json',\n",
       " 'data/raw_bronze/esl_dota2/2016/esl_dota2_2016_037_64320524.json',\n",
       " 'data/raw_bronze/esl_dota2/2016/esl_dota2_2016_038_64713142.json',\n",
       " 'data/raw_bronze/esl_dota2/2016/esl_dota2_2016_039_65098896.json',\n",
       " 'data/raw_bronze/esl_dota2/2016/esl_dota2_2016_040_65134169.json',\n",
       " 'data/raw_bronze/esl_dota2/2016/esl_dota2_2016_041_65500735.json',\n",
       " 'data/raw_bronze/esl_dota2/2016/esl_dota2_2016_042_65735654.json',\n",
       " 'data/raw_bronze/esl_dota2/2016/esl_dota2_2016_043_66088079.json',\n",
       " 'data/raw_bronze/esl_dota2/2016/esl_dota2_2016_044_66355361.json',\n",
       " 'data/raw_bronze/esl_dota2/2016/esl_dota2_2016_045_66552254.json',\n",
       " 'data/raw_bronze/esl_dota2/2016/esl_dota2_2016_046_66939313.json',\n",
       " 'data/raw_bronze/esl_dota2/2016/esl_dota2_2016_047_67240304.json',\n",
       " 'data/raw_bronze/esl_dota2/2016/esl_dota2_2016_048_67317742.json',\n",
       " 'data/raw_bronze/esl_dota2/2016/esl_dota2_2016_049_67696268.json',\n",
       " 'data/raw_bronze/esl_dota2/2016/esl_dota2_2016_050_67809147.json',\n",
       " 'data/raw_bronze/esl_dota2/2016/esl_dota2_2016_051_68190869.json',\n",
       " 'data/raw_bronze/esl_dota2/2016/esl_dota2_2016_052_68303028.json',\n",
       " 'data/raw_bronze/esl_dota2/2016/esl_dota2_2016_053_68357287.json',\n",
       " 'data/raw_bronze/esl_dota2/2016/esl_dota2_2016_054_68540441.json',\n",
       " 'data/raw_bronze/esl_dota2/2016/esl_dota2_2016_055_68796047.json',\n",
       " 'data/raw_bronze/esl_dota2/2016/esl_dota2_2016_056_68978993.json',\n",
       " 'data/raw_bronze/esl_dota2/2016/esl_dota2_2016_057_69394642.json',\n",
       " 'data/raw_bronze/esl_dota2/2016/esl_dota2_2016_058_69775181.json',\n",
       " 'data/raw_bronze/esl_dota2/2016/esl_dota2_2016_059_70155739.json',\n",
       " 'data/raw_bronze/esl_dota2/2016/esl_dota2_2016_060_70851477.json',\n",
       " 'data/raw_bronze/esl_dota2/2016/esl_dota2_2016_061_71042155.json',\n",
       " 'data/raw_bronze/esl_dota2/2016/esl_dota2_2016_062_71423950.json',\n",
       " 'data/raw_bronze/esl_dota2/2016/esl_dota2_2016_063_71527234.json',\n",
       " 'data/raw_bronze/esl_dota2/2016/esl_dota2_2016_064_71905106.json',\n",
       " 'data/raw_bronze/esl_dota2/2016/esl_dota2_2016_065_72274368.json',\n",
       " 'data/raw_bronze/esl_dota2/2016/esl_dota2_2016_066_72643365.json',\n",
       " 'data/raw_bronze/esl_dota2/2016/esl_dota2_2016_067_72752827.json',\n",
       " 'data/raw_bronze/esl_dota2/2016/esl_dota2_2016_068_72903608.json',\n",
       " 'data/raw_bronze/esl_dota2/2016/esl_dota2_2016_069_73014162.json',\n",
       " 'data/raw_bronze/esl_dota2/2016/esl_dota2_2016_070_73095890.json',\n",
       " 'data/raw_bronze/esl_dota2/2016/esl_dota2_2016_071_73096810.json',\n",
       " 'data/raw_bronze/esl_dota2/2016/esl_dota2_2016_072_73206672.json',\n",
       " 'data/raw_bronze/esl_dota2/2016/esl_dota2_2016_073_73286486.json',\n",
       " 'data/raw_bronze/esl_dota2/2016/esl_dota2_2016_074_73376948.json',\n",
       " 'data/raw_bronze/esl_dota2/2016/esl_dota2_2016_075_73468162.json',\n",
       " 'data/raw_bronze/esl_dota2/2016/esl_dota2_2016_076_73483568.json',\n",
       " 'data/raw_bronze/esl_dota2/2016/esl_dota2_2016_077_73801669.json',\n",
       " 'data/raw_bronze/esl_dota2/2016/esl_dota2_2016_078_74159695.json',\n",
       " 'data/raw_bronze/esl_dota2/2016/esl_dota2_2016_079_74468522.json',\n",
       " 'data/raw_bronze/esl_dota2/2016/esl_dota2_2016_080_74619370.json',\n",
       " 'data/raw_bronze/esl_dota2/2016/esl_dota2_2016_081_74854544.json',\n",
       " 'data/raw_bronze/esl_dota2/2016/esl_dota2_2016_082_75248426.json',\n",
       " 'data/raw_bronze/esl_dota2/2016/esl_dota2_2016_083_75390735.json',\n",
       " 'data/raw_bronze/esl_dota2/2016/esl_dota2_2016_084_75779080.json',\n",
       " 'data/raw_bronze/esl_dota2/2016/esl_dota2_2016_085_76070737.json',\n",
       " 'data/raw_bronze/esl_dota2/2016/esl_dota2_2016_086_76270172.json',\n",
       " 'data/raw_bronze/esl_dota2/2016/esl_dota2_2016_087_76639253.json',\n",
       " 'data/raw_bronze/esl_dota2/2016/esl_dota2_2016_088_76700241.json',\n",
       " 'data/raw_bronze/esl_dota2/2016/esl_dota2_2016_089_77070752.json',\n",
       " 'data/raw_bronze/esl_dota2/2016/esl_dota2_2016_090_77429206.json',\n",
       " 'data/raw_bronze/esl_dota2/2016/esl_dota2_2016_091_77489836.json',\n",
       " 'data/raw_bronze/esl_dota2/2016/esl_dota2_2016_092_77773659.json',\n",
       " 'data/raw_bronze/esl_dota2/2016/esl_dota2_2016_093_78292825.json',\n",
       " 'data/raw_bronze/esl_dota2/2016/esl_dota2_2016_094_78643398.json',\n",
       " 'data/raw_bronze/esl_dota2/2016/esl_dota2_2016_095_78869718.json',\n",
       " 'data/raw_bronze/esl_dota2/2016/esl_dota2_2016_096_79125347.json',\n",
       " 'data/raw_bronze/esl_dota2/2016/esl_dota2_2016_097_79469842.json',\n",
       " 'data/raw_bronze/esl_dota2/2016/esl_dota2_2016_098_79555685.json',\n",
       " 'data/raw_bronze/esl_dota2/2016/esl_dota2_2016_099_79620614.json',\n",
       " 'data/raw_bronze/esl_dota2/2016/esl_dota2_2016_100_79959054.json',\n",
       " 'data/raw_bronze/esl_dota2/2016/esl_dota2_2016_101_80316321.json',\n",
       " 'data/raw_bronze/esl_dota2/2016/esl_dota2_2016_102_80672691.json',\n",
       " 'data/raw_bronze/esl_dota2/2016/esl_dota2_2016_103_81035214.json',\n",
       " 'data/raw_bronze/esl_dota2/2016/esl_dota2_2016_104_81319606.json',\n",
       " 'data/raw_bronze/esl_dota2/2016/esl_dota2_2016_105_81521629.json',\n",
       " 'data/raw_bronze/esl_dota2/2016/esl_dota2_2016_106_81612841.json',\n",
       " 'data/raw_bronze/esl_dota2/2016/esl_dota2_2016_107_81648898.json',\n",
       " 'data/raw_bronze/esl_dota2/2016/esl_dota2_2016_108_81879179.json',\n",
       " 'data/raw_bronze/esl_dota2/2016/esl_dota2_2016_109_82238571.json',\n",
       " 'data/raw_bronze/esl_dota2/2016/esl_dota2_2016_110_82256509.json',\n",
       " 'data/raw_bronze/esl_dota2/2016/esl_dota2_2016_111_82258160.json',\n",
       " 'data/raw_bronze/esl_dota2/2016/esl_dota2_2016_112_82258274.json',\n",
       " 'data/raw_bronze/esl_dota2/2016/esl_dota2_2016_113_82611294.json',\n",
       " 'data/raw_bronze/esl_dota2/2016/esl_dota2_2016_114_82987320.json',\n",
       " 'data/raw_bronze/esl_dota2/2016/esl_dota2_2016_115_83004986.json',\n",
       " 'data/raw_bronze/esl_dota2/2016/esl_dota2_2016_116_83057129.json',\n",
       " 'data/raw_bronze/esl_dota2/2016/esl_dota2_2016_117_83154572.json',\n",
       " 'data/raw_bronze/esl_dota2/2016/esl_dota2_2016_118_83319992.json',\n",
       " 'data/raw_bronze/esl_dota2/2016/esl_dota2_2016_119_83385921.json',\n",
       " 'data/raw_bronze/esl_dota2/2016/esl_dota2_2016_120_83459976.json',\n",
       " 'data/raw_bronze/esl_dota2/2016/esl_dota2_2016_121_83576319.json',\n",
       " 'data/raw_bronze/esl_dota2/2016/esl_dota2_2016_122_83729007.json',\n",
       " 'data/raw_bronze/esl_dota2/2016/esl_dota2_2016_123_83921159.json',\n",
       " 'data/raw_bronze/esl_dota2/2016/esl_dota2_2016_125_84071290.json',\n",
       " 'data/raw_bronze/esl_dota2/2016/esl_dota2_2016_126_84117204.json',\n",
       " 'data/raw_bronze/esl_dota2/2016/esl_dota2_2016_127_84130454.json',\n",
       " 'data/raw_bronze/esl_dota2/2016/esl_dota2_2016_128_84254089.json',\n",
       " 'data/raw_bronze/esl_dota2/2016/esl_dota2_2016_129_84327642.json',\n",
       " 'data/raw_bronze/esl_dota2/2016/esl_dota2_2016_130_84520462.json',\n",
       " 'data/raw_bronze/esl_dota2/2016/esl_dota2_2016_132_84737745.json',\n",
       " 'data/raw_bronze/esl_dota2/2016/esl_dota2_2016_133_84895789.json',\n",
       " 'data/raw_bronze/esl_dota2/2016/esl_dota2_2016_136_85007146.json',\n",
       " 'data/raw_bronze/esl_dota2/2016/esl_dota2_2016_137_85229909.json',\n",
       " 'data/raw_bronze/esl_dota2/2016/esl_dota2_2016_139_85293569.json',\n",
       " 'data/raw_bronze/esl_dota2/2016/esl_dota2_2016_140_85378817.json',\n",
       " 'data/raw_bronze/esl_dota2/2016/esl_dota2_2016_141_85397875.json',\n",
       " 'data/raw_bronze/esl_dota2/2016/esl_dota2_2016_142_85412697.json',\n",
       " 'data/raw_bronze/esl_dota2/2016/esl_dota2_2016_144_85964332.json',\n",
       " 'data/raw_bronze/esl_dota2/2016/esl_dota2_2016_145_86349676.json',\n",
       " 'data/raw_bronze/esl_dota2/2016/esl_dota2_2016_146_86747323.json',\n",
       " 'data/raw_bronze/esl_dota2/2016/esl_dota2_2016_147_86924772.json',\n",
       " 'data/raw_bronze/esl_dota2/2016/esl_dota2_2016_148_87293934.json',\n",
       " 'data/raw_bronze/esl_dota2/2016/esl_dota2_2016_149_87427111.json',\n",
       " 'data/raw_bronze/esl_dota2/2016/esl_dota2_2016_150_87810797.json',\n",
       " 'data/raw_bronze/esl_dota2/2016/esl_dota2_2016_151_88148524.json',\n",
       " 'data/raw_bronze/esl_dota2/2016/esl_dota2_2016_152_88488559.json',\n",
       " 'data/raw_bronze/esl_dota2/2016/esl_dota2_2016_153_88760053.json',\n",
       " 'data/raw_bronze/esl_dota2/2016/esl_dota2_2016_154_88805044.json',\n",
       " 'data/raw_bronze/esl_dota2/2016/esl_dota2_2016_155_88813779.json',\n",
       " 'data/raw_bronze/esl_dota2/2016/esl_dota2_2016_156_89149573.json',\n",
       " 'data/raw_bronze/esl_dota2/2016/esl_dota2_2016_157_89359277.json',\n",
       " 'data/raw_bronze/esl_dota2/2016/esl_dota2_2016_158_89359857.json',\n",
       " 'data/raw_bronze/esl_dota2/2016/esl_dota2_2016_159_89444365.json',\n",
       " 'data/raw_bronze/esl_dota2/2016/esl_dota2_2016_160_89444580.json',\n",
       " 'data/raw_bronze/esl_dota2/2016/esl_dota2_2016_161_89531700.json',\n",
       " 'data/raw_bronze/esl_dota2/2016/esl_dota2_2016_162_89910781.json',\n",
       " 'data/raw_bronze/esl_dota2/2016/esl_dota2_2016_164_90010168.json',\n",
       " 'data/raw_bronze/esl_dota2/2016/esl_dota2_2016_165_90124085.json',\n",
       " 'data/raw_bronze/esl_dota2/2016/esl_dota2_2016_166_90375241.json',\n",
       " 'data/raw_bronze/esl_dota2/2016/esl_dota2_2016_167_90727976.json',\n",
       " 'data/raw_bronze/esl_dota2/2016/esl_dota2_2016_168_91096207.json',\n",
       " 'data/raw_bronze/esl_dota2/2016/esl_dota2_2016_169_91283138.json',\n",
       " 'data/raw_bronze/esl_dota2/2016/esl_dota2_2016_170_91452267.json',\n",
       " 'data/raw_bronze/esl_dota2/2016/esl_dota2_2016_171_91551214.json',\n",
       " 'data/raw_bronze/esl_dota2/2016/esl_dota2_2016_208_91822137.json',\n",
       " 'data/raw_bronze/esl_dota2/2016/esl_dota2_2016_213_91905450.json',\n",
       " 'data/raw_bronze/esl_dota2/2016/esl_dota2_2016_214_92245563.json',\n",
       " 'data/raw_bronze/esl_dota2/2016/esl_dota2_2016_215_92654181.json',\n",
       " 'data/raw_bronze/esl_dota2/2016/esl_dota2_2016_216_93002034.json',\n",
       " 'data/raw_bronze/esl_dota2/2016/esl_dota2_2016_217_93893088.json',\n",
       " 'data/raw_bronze/esl_dota2/2016/esl_dota2_2016_218_95288661.json']"
      ]
     },
     "execution_count": 29,
     "metadata": {},
     "output_type": "execute_result"
    }
   ],
   "source": [
    "sorted_json_files"
   ]
  },
  {
   "cell_type": "code",
   "execution_count": 30,
   "id": "0c9b49da-d490-41b8-be29-7b74933cfba1",
   "metadata": {},
   "outputs": [
    {
     "name": "stdout",
     "output_type": "stream",
     "text": [
      "0 data/raw_bronze/esl_dota2/2016/esl_dota2_2016_000_58748633.json\n"
     ]
    }
   ],
   "source": [
    "i = 0\n",
    "key = sorted_json_files[0]\n",
    "print(i, key)"
   ]
  },
  {
   "cell_type": "code",
   "execution_count": 31,
   "id": "d416b32c-0b7d-4559-bea3-64533e559762",
   "metadata": {},
   "outputs": [
    {
     "name": "stdout",
     "output_type": "stream",
     "text": [
      "esl_dota2_2016_000_58748633.json\n"
     ]
    }
   ],
   "source": [
    "file_name = os.path.basename(key)\n",
    "print(file_name)"
   ]
  },
  {
   "cell_type": "code",
   "execution_count": 32,
   "id": "364cf254-6e16-4033-8311-02e81f93eea5",
   "metadata": {},
   "outputs": [
    {
     "name": "stdout",
     "output_type": "stream",
     "text": [
      "/Users/hari14/Desktop/PHD/twitch_emotes_analytics_project/data/processed_silver/ esl_dota2_2016_000_58748633.json /Users/hari14/Desktop/PHD/twitch_emotes_analytics_project/data/processed_silver/esl_dota2_2016_000_58748633.json\n"
     ]
    }
   ],
   "source": [
    "local_file_path = os.path.join(local_path, file_name)\n",
    "print(local_path, file_name, local_file_path)"
   ]
  },
  {
   "cell_type": "code",
   "execution_count": 34,
   "id": "cc4daf8d-3d23-4fd9-a06c-4db55a83e43d",
   "metadata": {},
   "outputs": [
    {
     "name": "stdout",
     "output_type": "stream",
     "text": [
      "/Users/hari14/Desktop/PHD/twitch_emotes_analytics_project/data/processed_silver/temp_processed\n"
     ]
    }
   ],
   "source": [
    "temp_processed_path = os.path.join(local_path, \"temp_processed\")\n",
    "print(temp_processed_path)"
   ]
  },
  {
   "cell_type": "code",
   "execution_count": 35,
   "id": "8d093067-efcd-41b5-9afa-174bd3fa5c5d",
   "metadata": {},
   "outputs": [
    {
     "name": "stdout",
     "output_type": "stream",
     "text": [
      "58748633\n"
     ]
    }
   ],
   "source": [
    "file_vod_id = file_name.replace(\".json\", \"\").split(\"_\")[-1]\n",
    "print(file_vod_id)"
   ]
  },
  {
   "cell_type": "code",
   "execution_count": 37,
   "id": "3a0fc224-6d28-4bec-81a7-b4caea0f05ab",
   "metadata": {},
   "outputs": [],
   "source": [
    "s3.download_file(Bucket=bucket, Key=key, Filename=local_file_path)"
   ]
  },
  {
   "cell_type": "code",
   "execution_count": 38,
   "id": "97fb82a3-b8c6-417c-a64f-6b795141b878",
   "metadata": {},
   "outputs": [
    {
     "name": "stderr",
     "output_type": "stream",
     "text": [
      "ANTLR Tool version 4.9.3 used for code generation does not match the current runtime version 4.7ANTLR Runtime version 4.9.3 used for parser compilation does not match the current runtime version 4.7ANTLR Tool version 4.9.3 used for code generation does not match the current runtime version 4.7ANTLR Runtime version 4.9.3 used for parser compilation does not match the current runtime version 4.7"
     ]
    }
   ],
   "source": [
    "df = spark.read.format(\"json\").option(\"multiLine\", True).load(local_file_path)"
   ]
  },
  {
   "cell_type": "code",
   "execution_count": 39,
   "id": "4a839510-3143-4c73-a8f8-334c2c2cb86c",
   "metadata": {},
   "outputs": [
    {
     "name": "stdout",
     "output_type": "stream",
     "text": [
      "root\n",
      " |-- author: struct (nullable = true)\n",
      " |    |-- badges: array (nullable = true)\n",
      " |    |    |-- element: struct (containsNull = true)\n",
      " |    |    |    |-- clickAction: string (nullable = true)\n",
      " |    |    |    |-- clickURL: string (nullable = true)\n",
      " |    |    |    |-- icons: array (nullable = true)\n",
      " |    |    |    |    |-- element: struct (containsNull = true)\n",
      " |    |    |    |    |    |-- height: long (nullable = true)\n",
      " |    |    |    |    |    |-- id: string (nullable = true)\n",
      " |    |    |    |    |    |-- url: string (nullable = true)\n",
      " |    |    |    |    |    |-- width: long (nullable = true)\n",
      " |    |    |    |-- name: string (nullable = true)\n",
      " |    |    |    |-- title: string (nullable = true)\n",
      " |    |    |    |-- version: long (nullable = true)\n",
      " |    |-- colour: string (nullable = true)\n",
      " |    |-- display_name: string (nullable = true)\n",
      " |    |-- id: string (nullable = true)\n",
      " |    |-- name: string (nullable = true)\n",
      " |-- emotes: array (nullable = true)\n",
      " |    |-- element: struct (containsNull = true)\n",
      " |    |    |-- id: string (nullable = true)\n",
      " |    |    |-- images: array (nullable = true)\n",
      " |    |    |    |-- element: struct (containsNull = true)\n",
      " |    |    |    |    |-- height: long (nullable = true)\n",
      " |    |    |    |    |-- id: string (nullable = true)\n",
      " |    |    |    |    |-- url: string (nullable = true)\n",
      " |    |    |    |    |-- width: long (nullable = true)\n",
      " |    |    |-- locations: string (nullable = true)\n",
      " |    |    |-- name: string (nullable = true)\n",
      " |-- message: string (nullable = true)\n",
      " |-- message_id: string (nullable = true)\n",
      " |-- message_type: string (nullable = true)\n",
      " |-- time_in_seconds: long (nullable = true)\n",
      " |-- time_text: string (nullable = true)\n",
      " |-- timestamp: long (nullable = true)\n",
      "\n"
     ]
    }
   ],
   "source": [
    "df.printSchema()"
   ]
  },
  {
   "cell_type": "code",
   "execution_count": 40,
   "id": "241ac516-acf4-4b8c-bbbc-7c4c84ebe8a6",
   "metadata": {},
   "outputs": [
    {
     "data": {
      "text/plain": [
       "412"
      ]
     },
     "execution_count": 40,
     "metadata": {},
     "output_type": "execute_result"
    }
   ],
   "source": [
    "df.count()"
   ]
  },
  {
   "cell_type": "code",
   "execution_count": 41,
   "id": "aad88529-a7ee-473b-b122-7225398b742c",
   "metadata": {},
   "outputs": [],
   "source": [
    "df_filtered = df.filter(col(\"emotes\").isNotNull())"
   ]
  },
  {
   "cell_type": "code",
   "execution_count": 42,
   "id": "5ce4415f-1f56-42cf-bbb7-019a2905044d",
   "metadata": {},
   "outputs": [
    {
     "data": {
      "text/plain": [
       "86"
      ]
     },
     "execution_count": 42,
     "metadata": {},
     "output_type": "execute_result"
    }
   ],
   "source": [
    "df_filtered.count()"
   ]
  },
  {
   "cell_type": "code",
   "execution_count": 43,
   "id": "083ef152-03a1-415e-9c62-3323ef8c89be",
   "metadata": {},
   "outputs": [],
   "source": [
    "df_exploded = df_filtered.withColumn(\"emote\", explode(\"emotes\"))"
   ]
  },
  {
   "cell_type": "code",
   "execution_count": 44,
   "id": "3b301292-1c5f-4796-9140-c1d90477fccf",
   "metadata": {},
   "outputs": [
    {
     "data": {
      "text/plain": [
       "88"
      ]
     },
     "execution_count": 44,
     "metadata": {},
     "output_type": "execute_result"
    }
   ],
   "source": [
    "df_exploded.count()"
   ]
  },
  {
   "cell_type": "code",
   "execution_count": 45,
   "id": "77eee600-a9e8-4812-ac49-b3a7f7d117d3",
   "metadata": {},
   "outputs": [
    {
     "name": "stdout",
     "output_type": "stream",
     "text": [
      "root\n",
      " |-- author: struct (nullable = true)\n",
      " |    |-- badges: array (nullable = true)\n",
      " |    |    |-- element: struct (containsNull = true)\n",
      " |    |    |    |-- clickAction: string (nullable = true)\n",
      " |    |    |    |-- clickURL: string (nullable = true)\n",
      " |    |    |    |-- icons: array (nullable = true)\n",
      " |    |    |    |    |-- element: struct (containsNull = true)\n",
      " |    |    |    |    |    |-- height: long (nullable = true)\n",
      " |    |    |    |    |    |-- id: string (nullable = true)\n",
      " |    |    |    |    |    |-- url: string (nullable = true)\n",
      " |    |    |    |    |    |-- width: long (nullable = true)\n",
      " |    |    |    |-- name: string (nullable = true)\n",
      " |    |    |    |-- title: string (nullable = true)\n",
      " |    |    |    |-- version: long (nullable = true)\n",
      " |    |-- colour: string (nullable = true)\n",
      " |    |-- display_name: string (nullable = true)\n",
      " |    |-- id: string (nullable = true)\n",
      " |    |-- name: string (nullable = true)\n",
      " |-- emotes: array (nullable = true)\n",
      " |    |-- element: struct (containsNull = true)\n",
      " |    |    |-- id: string (nullable = true)\n",
      " |    |    |-- images: array (nullable = true)\n",
      " |    |    |    |-- element: struct (containsNull = true)\n",
      " |    |    |    |    |-- height: long (nullable = true)\n",
      " |    |    |    |    |-- id: string (nullable = true)\n",
      " |    |    |    |    |-- url: string (nullable = true)\n",
      " |    |    |    |    |-- width: long (nullable = true)\n",
      " |    |    |-- locations: string (nullable = true)\n",
      " |    |    |-- name: string (nullable = true)\n",
      " |-- message: string (nullable = true)\n",
      " |-- message_id: string (nullable = true)\n",
      " |-- message_type: string (nullable = true)\n",
      " |-- time_in_seconds: long (nullable = true)\n",
      " |-- time_text: string (nullable = true)\n",
      " |-- timestamp: long (nullable = true)\n",
      " |-- emote: struct (nullable = true)\n",
      " |    |-- id: string (nullable = true)\n",
      " |    |-- images: array (nullable = true)\n",
      " |    |    |-- element: struct (containsNull = true)\n",
      " |    |    |    |-- height: long (nullable = true)\n",
      " |    |    |    |-- id: string (nullable = true)\n",
      " |    |    |    |-- url: string (nullable = true)\n",
      " |    |    |    |-- width: long (nullable = true)\n",
      " |    |-- locations: string (nullable = true)\n",
      " |    |-- name: string (nullable = true)\n",
      "\n"
     ]
    }
   ],
   "source": [
    "df_exploded.printSchema()"
   ]
  },
  {
   "cell_type": "code",
   "execution_count": 53,
   "id": "7c35620b-6c72-4efa-a270-6f144aead6f3",
   "metadata": {},
   "outputs": [],
   "source": [
    "# log missing user_name or user_id files\n",
    "missing_users_files = []\n",
    "missing_users_df = df_exploded.filter(col(\"author.id\").isNull() | col(\"author.name\").isNull())\n",
    "missing_users_count = missing_users_df.count() \n",
    "if missing_users_count > 0:\n",
    "    missing_users_files.append(file_vod_id)   "
   ]
  },
  {
   "cell_type": "code",
   "execution_count": 54,
   "id": "34260f80-9a0e-4649-80d3-58fe90b534d2",
   "metadata": {},
   "outputs": [
    {
     "data": {
      "text/plain": [
       "['58748633']"
      ]
     },
     "execution_count": 54,
     "metadata": {},
     "output_type": "execute_result"
    }
   ],
   "source": [
    "missing_users_files"
   ]
  },
  {
   "cell_type": "code",
   "execution_count": 55,
   "id": "c6323ef8-6ee3-40f5-bb11-59e81d90448c",
   "metadata": {},
   "outputs": [],
   "source": [
    "df_badges = df_exploded.withColumn(\"i_badge_names\", expr(\"transform(author.badges, x -> x.name)\")) \\\n",
    "                                   .withColumn(\"i_badge_titles\", expr(\"transform(author.badges, x -> x.title)\")) \\\n",
    "                                   .withColumn(\"i_badge_versions\", expr(\"transform(author.badges, x -> x.version)\"))"
   ]
  },
  {
   "cell_type": "code",
   "execution_count": 56,
   "id": "e2d0c8f7-2e98-4328-9d0f-d44f3f26848b",
   "metadata": {},
   "outputs": [
    {
     "name": "stdout",
     "output_type": "stream",
     "text": [
      "root\n",
      " |-- author: struct (nullable = true)\n",
      " |    |-- badges: array (nullable = true)\n",
      " |    |    |-- element: struct (containsNull = true)\n",
      " |    |    |    |-- clickAction: string (nullable = true)\n",
      " |    |    |    |-- clickURL: string (nullable = true)\n",
      " |    |    |    |-- icons: array (nullable = true)\n",
      " |    |    |    |    |-- element: struct (containsNull = true)\n",
      " |    |    |    |    |    |-- height: long (nullable = true)\n",
      " |    |    |    |    |    |-- id: string (nullable = true)\n",
      " |    |    |    |    |    |-- url: string (nullable = true)\n",
      " |    |    |    |    |    |-- width: long (nullable = true)\n",
      " |    |    |    |-- name: string (nullable = true)\n",
      " |    |    |    |-- title: string (nullable = true)\n",
      " |    |    |    |-- version: long (nullable = true)\n",
      " |    |-- colour: string (nullable = true)\n",
      " |    |-- display_name: string (nullable = true)\n",
      " |    |-- id: string (nullable = true)\n",
      " |    |-- name: string (nullable = true)\n",
      " |-- emotes: array (nullable = true)\n",
      " |    |-- element: struct (containsNull = true)\n",
      " |    |    |-- id: string (nullable = true)\n",
      " |    |    |-- images: array (nullable = true)\n",
      " |    |    |    |-- element: struct (containsNull = true)\n",
      " |    |    |    |    |-- height: long (nullable = true)\n",
      " |    |    |    |    |-- id: string (nullable = true)\n",
      " |    |    |    |    |-- url: string (nullable = true)\n",
      " |    |    |    |    |-- width: long (nullable = true)\n",
      " |    |    |-- locations: string (nullable = true)\n",
      " |    |    |-- name: string (nullable = true)\n",
      " |-- message: string (nullable = true)\n",
      " |-- message_id: string (nullable = true)\n",
      " |-- message_type: string (nullable = true)\n",
      " |-- time_in_seconds: long (nullable = true)\n",
      " |-- time_text: string (nullable = true)\n",
      " |-- timestamp: long (nullable = true)\n",
      " |-- emote: struct (nullable = true)\n",
      " |    |-- id: string (nullable = true)\n",
      " |    |-- images: array (nullable = true)\n",
      " |    |    |-- element: struct (containsNull = true)\n",
      " |    |    |    |-- height: long (nullable = true)\n",
      " |    |    |    |-- id: string (nullable = true)\n",
      " |    |    |    |-- url: string (nullable = true)\n",
      " |    |    |    |-- width: long (nullable = true)\n",
      " |    |-- locations: string (nullable = true)\n",
      " |    |-- name: string (nullable = true)\n",
      " |-- i_badge_names: array (nullable = true)\n",
      " |    |-- element: string (containsNull = true)\n",
      " |-- i_badge_titles: array (nullable = true)\n",
      " |    |-- element: string (containsNull = true)\n",
      " |-- i_badge_versions: array (nullable = true)\n",
      " |    |-- element: long (containsNull = true)\n",
      "\n"
     ]
    }
   ],
   "source": [
    "df_badges.printSchema()"
   ]
  },
  {
   "cell_type": "code",
   "execution_count": 59,
   "id": "9d9cc0f9-c6d7-45bd-96ef-0ec2be3365ee",
   "metadata": {},
   "outputs": [
    {
     "name": "stdout",
     "output_type": "stream",
     "text": [
      "+-----------------------+-----------------------+----------------+\n",
      "|i_badge_names          |i_badge_titles         |i_badge_versions|\n",
      "+-----------------------+-----------------------+----------------+\n",
      "|NULL                   |NULL                   |NULL            |\n",
      "|[moderator, subscriber]|[Moderator, Subscriber]|[1, 0]          |\n",
      "|NULL                   |NULL                   |NULL            |\n",
      "+-----------------------+-----------------------+----------------+\n",
      "only showing top 3 rows\n",
      "\n"
     ]
    }
   ],
   "source": [
    "df_badges.select(\"i_badge_names\", \"i_badge_titles\", \"i_badge_versions\").show(3, truncate= False)"
   ]
  },
  {
   "cell_type": "code",
   "execution_count": 64,
   "id": "1734f831-8a91-413c-a30f-f0905c782627",
   "metadata": {},
   "outputs": [
    {
     "data": {
      "text/plain": [
       "88"
      ]
     },
     "execution_count": 64,
     "metadata": {},
     "output_type": "execute_result"
    }
   ],
   "source": [
    "df_exploded.count()"
   ]
  },
  {
   "cell_type": "code",
   "execution_count": 66,
   "id": "054e3d30-ca4f-4235-a93a-5e02ccde798b",
   "metadata": {},
   "outputs": [],
   "source": [
    "# Final select with VOD ID added\n",
    "df_panel = df_badges.select(\n",
    "                col(\"author.id\").cast(\"long\").alias(\"i_user_id\"),\n",
    "                col(\"author.name\").alias(\"i_user_name\"),\n",
    "                col(\"author.colour\").alias(\"i_display_color\"),\n",
    "                col(\"i_badge_names\"),\n",
    "                col(\"i_badge_titles\"),\n",
    "                col(\"i_badge_versions\").cast(\"array<string>\"),\n",
    "                lit(None).cast(\"string\").alias(\"i_user_status\"),\n",
    "                lit(channel_name).alias(\"j_streamer\"),\n",
    "                col(\"emote.name\").alias(\"k_emote_name\"),\n",
    "                to_timestamp((col(\"timestamp\") / 1000000).cast(\"double\")).alias(\"t_timestamp\"),\n",
    "                col(\"time_text\").alias(\"t_time_text\"),\n",
    "                col(\"time_in_seconds\").cast(\"long\").alias(\"t_seconds\"),\n",
    "                lit(file_vod_id).alias(\"vod_id\"),\n",
    "                col(\"message\").alias(\"chat_message\")\n",
    "            )"
   ]
  },
  {
   "cell_type": "code",
   "execution_count": 69,
   "id": "c67b54f6-92fb-421e-a96d-d5c80825e8d6",
   "metadata": {},
   "outputs": [
    {
     "name": "stdout",
     "output_type": "stream",
     "text": [
      "root\n",
      " |-- i_user_id: long (nullable = true)\n",
      " |-- i_user_name: string (nullable = true)\n",
      " |-- i_display_color: string (nullable = true)\n",
      " |-- i_badge_names: array (nullable = true)\n",
      " |    |-- element: string (containsNull = true)\n",
      " |-- i_badge_titles: array (nullable = true)\n",
      " |    |-- element: string (containsNull = true)\n",
      " |-- i_badge_versions: array (nullable = true)\n",
      " |    |-- element: string (containsNull = true)\n",
      " |-- i_user_status: string (nullable = true)\n",
      " |-- j_streamer: string (nullable = false)\n",
      " |-- k_emote_name: string (nullable = true)\n",
      " |-- t_timestamp: timestamp (nullable = true)\n",
      " |-- t_time_text: string (nullable = true)\n",
      " |-- t_seconds: long (nullable = true)\n",
      " |-- vod_id: string (nullable = false)\n",
      " |-- chat_message: string (nullable = true)\n",
      "\n"
     ]
    }
   ],
   "source": [
    "df_panel.count()\n",
    "df_panel.printSchema()"
   ]
  },
  {
   "cell_type": "code",
   "execution_count": 70,
   "id": "a51bcaa6-459c-4879-b1a2-db396173e8fc",
   "metadata": {},
   "outputs": [
    {
     "name": "stdout",
     "output_type": "stream",
     "text": [
      "+---------+-----------+---------------+--------------------+--------------------+----------------+-------------+----------+------------+--------------------+-----------+---------+--------+--------------------+\n",
      "|i_user_id|i_user_name|i_display_color|       i_badge_names|      i_badge_titles|i_badge_versions|i_user_status|j_streamer|k_emote_name|         t_timestamp|t_time_text|t_seconds|  vod_id|        chat_message|\n",
      "+---------+-----------+---------------+--------------------+--------------------+----------------+-------------+----------+------------+--------------------+-----------+---------+--------+--------------------+\n",
      "| 48149174|     pokohh|        #DAA520|                NULL|                NULL|            NULL|         NULL| esl_dota2|    admiralW|2016-04-05 12:43:...|       2:19|      139|58748633|            admiralW|\n",
      "| 36481935|  esl_dota2|           NULL|[moderator, subsc...|[Moderator, Subsc...|          [1, 0]|         NULL| esl_dota2|          :D|2016-04-05 12:44:...|       3:21|      201|58748633|        Hey there :D|\n",
      "| 62538438|hellion3601|           NULL|                NULL|                NULL|            NULL|         NULL| esl_dota2|    PogChamp|2016-04-05 12:47:...|       7:14|      434|58748633|omg, fat puck!! P...|\n",
      "+---------+-----------+---------------+--------------------+--------------------+----------------+-------------+----------+------------+--------------------+-----------+---------+--------+--------------------+\n",
      "only showing top 3 rows\n",
      "\n"
     ]
    }
   ],
   "source": [
    "df_panel.show(3)"
   ]
  },
  {
   "cell_type": "code",
   "execution_count": 71,
   "id": "3510995a-4cad-4aa1-b8f4-a125ee491e4c",
   "metadata": {},
   "outputs": [],
   "source": [
    "import pandas as pd"
   ]
  },
  {
   "cell_type": "code",
   "execution_count": 72,
   "id": "020986b4-f72b-45a8-aa87-743d86d48ac1",
   "metadata": {},
   "outputs": [],
   "source": [
    "# Keep track of files being processed\n",
    "total_files_per_year = {}\n",
    "processed_files_per_year = {}\n",
    "no_emote_files_per_year = {}\n",
    "missing_users_files_per_year = {}\n",
    "missing_users_count_per_year = {}"
   ]
  },
  {
   "cell_type": "code",
   "execution_count": 74,
   "id": "5125883c-b4ad-486a-b712-184b2fab35f0",
   "metadata": {},
   "outputs": [],
   "source": [
    "processed_files =[]\n",
    "no_emotes_files =[]\n",
    "missing_users_files = []"
   ]
  },
  {
   "cell_type": "code",
   "execution_count": 77,
   "id": "483cf40c-cea3-415a-a7e6-1650112c221b",
   "metadata": {},
   "outputs": [
    {
     "data": {
      "text/plain": [
       "['58748633']"
      ]
     },
     "execution_count": 77,
     "metadata": {},
     "output_type": "execute_result"
    }
   ],
   "source": [
    "missing_users_files"
   ]
  },
  {
   "cell_type": "code",
   "execution_count": 76,
   "id": "7c9013ac-1920-46c7-b62e-ebb8c7b4620d",
   "metadata": {},
   "outputs": [],
   "source": [
    "# log missing user_name or user_id files\n",
    "            \n",
    "missing_users_df = df_exploded.filter(col(\"author.id\").isNull() | col(\"author.name\").isNull())\n",
    "missing_users_count = missing_users_df.count() \n",
    "if missing_users_count > 0:\n",
    "    missing_users_files.append(file_vod_id)"
   ]
  },
  {
   "cell_type": "code",
   "execution_count": 80,
   "id": "1bceeb49-bad2-451b-abb7-5ad879a0cbee",
   "metadata": {},
   "outputs": [
    {
     "name": "stdout",
     "output_type": "stream",
     "text": [
      "root\n",
      " |-- i_user_id: long (nullable = true)\n",
      " |-- i_user_name: string (nullable = true)\n",
      " |-- i_display_color: string (nullable = true)\n",
      " |-- i_badge_names: array (nullable = true)\n",
      " |    |-- element: string (containsNull = true)\n",
      " |-- i_badge_titles: array (nullable = true)\n",
      " |    |-- element: string (containsNull = true)\n",
      " |-- i_badge_versions: array (nullable = true)\n",
      " |    |-- element: string (containsNull = true)\n",
      " |-- i_user_status: string (nullable = true)\n",
      " |-- j_streamer: string (nullable = false)\n",
      " |-- k_emote_name: string (nullable = true)\n",
      " |-- t_timestamp: timestamp (nullable = true)\n",
      " |-- t_time_text: string (nullable = true)\n",
      " |-- t_seconds: long (nullable = true)\n",
      " |-- vod_id: string (nullable = false)\n",
      " |-- chat_message: string (nullable = true)\n",
      "\n"
     ]
    }
   ],
   "source": [
    "df_panel.printSchema()"
   ]
  },
  {
   "cell_type": "code",
   "execution_count": null,
   "id": "3cf9b000-372b-4e83-bfee-8ff6fa71a8a9",
   "metadata": {},
   "outputs": [],
   "source": []
  },
  {
   "cell_type": "code",
   "execution_count": null,
   "id": "ebfbf170-8e00-4b72-8c41-96d533276fb6",
   "metadata": {},
   "outputs": [],
   "source": []
  },
  {
   "cell_type": "code",
   "execution_count": null,
   "id": "0f021097-9141-4bba-865c-66a69310c9d9",
   "metadata": {},
   "outputs": [],
   "source": []
  },
  {
   "cell_type": "code",
   "execution_count": null,
   "id": "7597eaaa-b134-4240-9a7a-f31381a91ce5",
   "metadata": {},
   "outputs": [],
   "source": []
  },
  {
   "cell_type": "code",
   "execution_count": null,
   "id": "f655c9f6-43e4-47c9-a924-d81cc7ccd115",
   "metadata": {},
   "outputs": [],
   "source": []
  },
  {
   "cell_type": "code",
   "execution_count": null,
   "id": "f636bb90-d6c8-4e4d-b293-e89a37f90d6d",
   "metadata": {},
   "outputs": [],
   "source": []
  },
  {
   "cell_type": "code",
   "execution_count": null,
   "id": "e400b345-5d82-46a4-8f1f-678753c3d9b1",
   "metadata": {},
   "outputs": [],
   "source": []
  },
  {
   "cell_type": "code",
   "execution_count": null,
   "id": "a1f317c1-ac22-4b0a-a9eb-0e904709fd08",
   "metadata": {},
   "outputs": [],
   "source": []
  },
  {
   "cell_type": "code",
   "execution_count": null,
   "id": "63df7f6b-e980-4a4a-a3f2-044e5bacd49e",
   "metadata": {},
   "outputs": [],
   "source": []
  },
  {
   "cell_type": "code",
   "execution_count": null,
   "id": "40b90f87-7c12-49ec-9285-c9665cc17e39",
   "metadata": {},
   "outputs": [],
   "source": []
  },
  {
   "cell_type": "code",
   "execution_count": null,
   "id": "05fbb5d8-c998-4e41-9983-98c3821966e6",
   "metadata": {},
   "outputs": [],
   "source": []
  },
  {
   "cell_type": "code",
   "execution_count": null,
   "id": "85153023-9d4d-47ce-b727-acb25fd03d36",
   "metadata": {},
   "outputs": [],
   "source": []
  },
  {
   "cell_type": "code",
   "execution_count": null,
   "id": "de429398-f897-445e-bcf5-8b27e8ca2e6d",
   "metadata": {},
   "outputs": [],
   "source": []
  },
  {
   "cell_type": "code",
   "execution_count": null,
   "id": "ed20be6f-3965-45dd-bdb5-4e1f1d64767a",
   "metadata": {},
   "outputs": [],
   "source": []
  },
  {
   "cell_type": "code",
   "execution_count": null,
   "id": "1c67eca6-fd13-4fb6-879f-84dd67945d3c",
   "metadata": {},
   "outputs": [],
   "source": []
  },
  {
   "cell_type": "code",
   "execution_count": null,
   "id": "36ce6aa5-6f82-431a-9da8-fb54069887f4",
   "metadata": {},
   "outputs": [],
   "source": []
  },
  {
   "cell_type": "code",
   "execution_count": null,
   "id": "7f47e328-8f04-455f-bfac-84a9c3fe41e7",
   "metadata": {},
   "outputs": [],
   "source": []
  },
  {
   "cell_type": "code",
   "execution_count": null,
   "id": "0329e893-0912-4f4c-af9e-eeec755fac43",
   "metadata": {},
   "outputs": [],
   "source": []
  },
  {
   "cell_type": "code",
   "execution_count": null,
   "id": "e7e2a4e8-a944-40ed-a06b-c7587e873ede",
   "metadata": {},
   "outputs": [],
   "source": []
  },
  {
   "cell_type": "code",
   "execution_count": null,
   "id": "a0f34be5-fbdb-445c-a059-6ff415900cd0",
   "metadata": {},
   "outputs": [],
   "source": []
  },
  {
   "cell_type": "code",
   "execution_count": null,
   "id": "d952fa51-f49b-4c31-b836-9d1cb17c1850",
   "metadata": {},
   "outputs": [],
   "source": []
  },
  {
   "cell_type": "code",
   "execution_count": 80,
   "id": "7ba25907-15bd-4349-90e4-7db2bd2670f9",
   "metadata": {},
   "outputs": [],
   "source": [
    "df_badges = df_exploded.withColumn(\"i_badge_names\", expr(\"transform(author.badges, x -> x.name)\")) \\\n",
    "                                   .withColumn(\"i_badge_titles\", expr(\"transform(author.badges, x -> x.title)\")) \\\n",
    "                                   .withColumn(\"i_badge_versions\", expr(\"transform(author.badges, x -> x.version)\"))"
   ]
  }
 ],
 "metadata": {
  "kernelspec": {
   "display_name": "Python 3 (ipykernel)",
   "language": "python",
   "name": "python3"
  },
  "language_info": {
   "codemirror_mode": {
    "name": "ipython",
    "version": 3
   },
   "file_extension": ".py",
   "mimetype": "text/x-python",
   "name": "python",
   "nbconvert_exporter": "python",
   "pygments_lexer": "ipython3",
   "version": "3.12.4"
  }
 },
 "nbformat": 4,
 "nbformat_minor": 5
}
