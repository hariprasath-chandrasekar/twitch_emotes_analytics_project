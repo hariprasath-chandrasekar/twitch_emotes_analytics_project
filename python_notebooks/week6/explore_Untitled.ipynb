{
 "cells": [
  {
   "cell_type": "code",
   "execution_count": 22,
   "id": "1481d63f-d329-4999-9ef9-8f25f1b583e3",
   "metadata": {},
   "outputs": [],
   "source": [
    "import json\n",
    "import pandas as pd\n",
    "import boto3"
   ]
  },
  {
   "cell_type": "code",
   "execution_count": 42,
   "id": "a63be000-522f-4d44-ad4f-29ac504264a5",
   "metadata": {},
   "outputs": [],
   "source": [
    "# S3 configuration\n",
    "bucket = \"twitch-emotes-analytics-project\"\n",
    "channel_name = \"esl_dota2\"\n",
    "chat_year = \"2023\""
   ]
  },
  {
   "cell_type": "code",
   "execution_count": 24,
   "id": "c695d1ca-d123-418a-bd8d-0d716ccce1b7",
   "metadata": {},
   "outputs": [],
   "source": [
    "s3 = boto3.client(\"s3\")"
   ]
  },
  {
   "cell_type": "code",
   "execution_count": 37,
   "id": "dce1e0d1-c012-431d-9b21-b7cbc4270b7e",
   "metadata": {},
   "outputs": [],
   "source": [
    "def list_raw_json_files(chat_year):\n",
    "    prefix = f\"data/raw/esl_dota2/{str(chat_year)}/\"\n",
    "    response = s3.list_objects_v2(Bucket = bucket, Prefix = prefix)\n",
    "    files = [item[\"Key\"] for item in response.get(\"Contents\",[]) if item['Key'].endswith('.json')]\n",
    "    return files"
   ]
  },
  {
   "cell_type": "code",
   "execution_count": 39,
   "id": "60b78e3f-ed25-4900-92c6-b4e02219eed7",
   "metadata": {},
   "outputs": [],
   "source": [
    "s3_keys = list_raw_json_files(2023)"
   ]
  },
  {
   "cell_type": "code",
   "execution_count": 43,
   "id": "0c5722d8-111f-415b-b99e-4b387c63f2df",
   "metadata": {},
   "outputs": [],
   "source": [
    "s3_key = s3_keys[0]"
   ]
  },
  {
   "cell_type": "code",
   "execution_count": 44,
   "id": "e29d28e7-5a3e-4332-8f0e-c4dc3600a1f0",
   "metadata": {},
   "outputs": [
    {
     "data": {
      "text/plain": [
       "'data/raw/esl_dota2/2023/esl_dota2_2023_0.json'"
      ]
     },
     "execution_count": 44,
     "metadata": {},
     "output_type": "execute_result"
    }
   ],
   "source": [
    "s3_key"
   ]
  },
  {
   "cell_type": "code",
   "execution_count": 45,
   "id": "9350de77-fe65-4662-8e85-d6195a31db22",
   "metadata": {},
   "outputs": [
    {
     "data": {
      "text/plain": [
       "'twitch-emotes-analytics-project'"
      ]
     },
     "execution_count": 45,
     "metadata": {},
     "output_type": "execute_result"
    }
   ],
   "source": [
    "bucket"
   ]
  },
  {
   "cell_type": "code",
   "execution_count": 46,
   "id": "fe57db04-ffdb-494c-b3e4-b7bc9b2d67ec",
   "metadata": {},
   "outputs": [],
   "source": [
    "response = s3.get_object(Bucket = bucket, Key = s3_key)"
   ]
  },
  {
   "cell_type": "code",
   "execution_count": 47,
   "id": "fa9b03f6-4554-4760-b536-84572085470d",
   "metadata": {},
   "outputs": [
    {
     "data": {
      "text/plain": [
       "dict"
      ]
     },
     "execution_count": 47,
     "metadata": {},
     "output_type": "execute_result"
    }
   ],
   "source": [
    "type(response)"
   ]
  },
  {
   "cell_type": "code",
   "execution_count": null,
   "id": "85c8228d-9231-4246-80a1-b7d084729c72",
   "metadata": {},
   "outputs": [],
   "source": [
    "import boto3\n",
    "import pandas as pd\n",
    "import json\n",
    "import io\n",
    "\n",
    "# --- Config ---\n",
    "bucket = 'twitch-emotes-analytics-project'\n",
    "channel = 'esl_dota2'\n",
    "years = ['2020', '2021', '2022', '2023', '2024', '2025']\n",
    "\n",
    "s3 = boto3.client('s3')\n",
    "\n",
    "def list_raw_json_keys(channel, year):\n",
    "    prefix = f'raw/{channel}/{year}/chats/'\n",
    "    response = s3.list_objects_v2(Bucket=bucket, Prefix=prefix)\n",
    "    keys = [item['Key'] for item in response.get('Contents', []) if item['Key'].endswith('.json')]\n",
    "    return keys\n",
    "\n",
    "def load_chat_data_from_s3(s3_key):\n",
    "    response = s3.get_object(Bucket=bucket, Key=s3_key)\n",
    "    body = response['Body'].read()\n",
    "    try:\n",
    "        return json.loads(body)\n",
    "    except json.JSONDecodeError as e:\n",
    "        print(f\"⚠️ JSONDecodeError in {s3_key}: {e}\")\n",
    "        return []\n",
    "\n",
    "def parse_emote_records(json_data, streamer=\"esl_dota2\"):\n",
    "    emote_records = []\n",
    "    for msg in json_data:\n",
    "        emotes = msg.get(\"emotes\", [])\n",
    "        if not emotes:\n",
    "            continue\n",
    "\n",
    "        author = msg.get(\"author\", {})\n",
    "        user_id = author.get(\"id\", \"\")\n",
    "        user_name = author.get(\"name\", \"\")\n",
    "        color = author.get(\"colour\", None)\n",
    "        badges = author.get(\"badges\", [])\n",
    "        timestamp = pd.to_datetime(msg.get(\"timestamp\"), unit=\"us\", errors=\"coerce\")\n",
    "        time_text = msg.get(\"time_text\", \"\")\n",
    "        seconds = msg.get(\"time_in_seconds\")\n",
    "        message = msg.get(\"message\", \"\")\n",
    "\n",
    "        for emote in emotes:\n",
    "            emote_records.append({\n",
    "                \"i_user_id\": user_id,\n",
    "                \"i_username\": user_name,\n",
    "                \"i_display_color\": color,\n",
    "                \"i_badges\": badges,\n",
    "                \"j_streamer\": streamer,\n",
    "                \"k_emote_name\": emote.get(\"name\", \"\"),\n",
    "                \"t_timestamp\": timestamp,\n",
    "                \"t_time_text\": time_text,\n",
    "                \"t_seconds\": seconds,\n",
    "                \"message\": message\n",
    "            })\n",
    "    return emote_records\n",
    "\n",
    "for year in years:\n",
    "    print(f\"\\n📅 Year: {year}\")\n",
    "    all_records = []\n",
    "    json_keys = list_raw_json_keys(channel, year)\n",
    "\n",
    "    for i, key in enumerate(json_keys, start=1):\n",
    "        print(f\"🔄 Reading {key} ({i}/{len(json_keys)})\")\n",
    "        chat_data = load_chat_data_from_s3(key)\n",
    "        records = parse_emote_records(chat_data, streamer=channel)\n",
    "        all_records.extend(records)\n",
    "\n",
    "    df_panel = pd.DataFrame(all_records)\n",
    "    output_key = f'processed/{channel}/{year}/emote_panel.csv'\n",
    "\n",
    "    csv_buffer = io.StringIO()\n",
    "    df_panel.to_csv(csv_buffer, index=False)\n",
    "    s3.put_object(Bucket=bucket, Key=output_key, Body=csv_buffer.getvalue())\n",
    "\n",
    "    print(f\"✅ Saved {len(df_panel)} records to s3://{bucket}/{output_key}\")\n"
   ]
  }
 ],
 "metadata": {
  "kernelspec": {
   "display_name": "Python 3 (ipykernel)",
   "language": "python",
   "name": "python3"
  },
  "language_info": {
   "codemirror_mode": {
    "name": "ipython",
    "version": 3
   },
   "file_extension": ".py",
   "mimetype": "text/x-python",
   "name": "python",
   "nbconvert_exporter": "python",
   "pygments_lexer": "ipython3",
   "version": "3.12.4"
  }
 },
 "nbformat": 4,
 "nbformat_minor": 5
}
