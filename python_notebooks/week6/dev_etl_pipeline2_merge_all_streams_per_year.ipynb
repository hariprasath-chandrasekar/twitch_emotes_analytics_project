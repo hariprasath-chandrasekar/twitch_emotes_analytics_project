{
 "cells": [
  {
   "cell_type": "code",
   "execution_count": 23,
   "id": "e457eaad-6a3e-4cb3-8eec-69edc2a908f5",
   "metadata": {},
   "outputs": [
    {
     "name": "stdout",
     "output_type": "stream",
     "text": [
      "🚀 Initializing Spark session...\n",
      "🔐 Configuring Spark to use AWS credentials...\n"
     ]
    },
    {
     "name": "stdin",
     "output_type": "stream",
     "text": [
      "📅 Please enter years to process (comma-separated, e.g. 2021,2022,2023):  2021,2022,2023,2024\n"
     ]
    },
    {
     "name": "stdout",
     "output_type": "stream",
     "text": [
      "\n",
      "📦 Processing year 2021 for channel 'esl_dota2'...\n"
     ]
    },
    {
     "name": "stderr",
     "output_type": "stream",
     "text": [
      "                                                                                \r"
     ]
    },
    {
     "name": "stdout",
     "output_type": "stream",
     "text": [
      "✅ Loaded 295,479 records from s3a://twitch-emotes-analytics-project/data/processed/esl_dota2/2021/*.parquet\n",
      "🛠 Flattening array columns for CSV compatibility...\n",
      "📤 Writing full Parquet dataset to: s3a://twitch-emotes-analytics-project/data/gold/esl_dota2/2021/all_data_parquet\n"
     ]
    },
    {
     "name": "stderr",
     "output_type": "stream",
     "text": [
      "                                                                                \r"
     ]
    },
    {
     "name": "stdout",
     "output_type": "stream",
     "text": [
      "📤 Writing CSV-friendly dataset to: s3a://twitch-emotes-analytics-project/data/gold/esl_dota2/2021/all_data_csv\n"
     ]
    },
    {
     "name": "stderr",
     "output_type": "stream",
     "text": [
      "25/06/23 18:56:45 WARN AbstractS3ACommitterFactory: Using standard FileOutputCommitter to commit work. This is slow and potentially unsafe.\n",
      "25/06/23 18:56:48 WARN AbstractS3ACommitterFactory: Using standard FileOutputCommitter to commit work. This is slow and potentially unsafe.\n",
      "                                                                                \r"
     ]
    },
    {
     "name": "stdout",
     "output_type": "stream",
     "text": [
      "✅ Finished writing all data for 2021 🎉\n",
      "\n",
      "📦 Processing year 2022 for channel 'esl_dota2'...\n"
     ]
    },
    {
     "name": "stderr",
     "output_type": "stream",
     "text": [
      "                                                                                \r"
     ]
    },
    {
     "name": "stdout",
     "output_type": "stream",
     "text": [
      "✅ Loaded 566,898 records from s3a://twitch-emotes-analytics-project/data/processed/esl_dota2/2022/*.parquet\n",
      "🛠 Flattening array columns for CSV compatibility...\n",
      "📤 Writing full Parquet dataset to: s3a://twitch-emotes-analytics-project/data/gold/esl_dota2/2022/all_data_parquet\n"
     ]
    },
    {
     "name": "stderr",
     "output_type": "stream",
     "text": [
      "                                                                                \r"
     ]
    },
    {
     "name": "stdout",
     "output_type": "stream",
     "text": [
      "📤 Writing CSV-friendly dataset to: s3a://twitch-emotes-analytics-project/data/gold/esl_dota2/2022/all_data_csv\n"
     ]
    },
    {
     "name": "stderr",
     "output_type": "stream",
     "text": [
      "25/06/23 19:11:46 WARN AbstractS3ACommitterFactory: Using standard FileOutputCommitter to commit work. This is slow and potentially unsafe.\n",
      "25/06/23 19:11:49 WARN AbstractS3ACommitterFactory: Using standard FileOutputCommitter to commit work. This is slow and potentially unsafe.\n",
      "                                                                                \r"
     ]
    },
    {
     "name": "stdout",
     "output_type": "stream",
     "text": [
      "✅ Finished writing all data for 2022 🎉\n",
      "\n",
      "📦 Processing year 2023 for channel 'esl_dota2'...\n"
     ]
    },
    {
     "name": "stderr",
     "output_type": "stream",
     "text": [
      "                                                                                \r"
     ]
    },
    {
     "name": "stdout",
     "output_type": "stream",
     "text": [
      "✅ Loaded 617,113 records from s3a://twitch-emotes-analytics-project/data/processed/esl_dota2/2023/*.parquet\n",
      "🛠 Flattening array columns for CSV compatibility...\n",
      "📤 Writing full Parquet dataset to: s3a://twitch-emotes-analytics-project/data/gold/esl_dota2/2023/all_data_parquet\n"
     ]
    },
    {
     "name": "stderr",
     "output_type": "stream",
     "text": [
      "                                                                                \r"
     ]
    },
    {
     "name": "stdout",
     "output_type": "stream",
     "text": [
      "📤 Writing CSV-friendly dataset to: s3a://twitch-emotes-analytics-project/data/gold/esl_dota2/2023/all_data_csv\n"
     ]
    },
    {
     "name": "stderr",
     "output_type": "stream",
     "text": [
      "25/06/23 19:21:52 WARN AbstractS3ACommitterFactory: Using standard FileOutputCommitter to commit work. This is slow and potentially unsafe.\n",
      "25/06/23 19:21:55 WARN AbstractS3ACommitterFactory: Using standard FileOutputCommitter to commit work. This is slow and potentially unsafe.\n",
      "                                                                                \r"
     ]
    },
    {
     "name": "stdout",
     "output_type": "stream",
     "text": [
      "✅ Finished writing all data for 2023 🎉\n",
      "\n",
      "📦 Processing year 2024 for channel 'esl_dota2'...\n"
     ]
    },
    {
     "name": "stderr",
     "output_type": "stream",
     "text": [
      "                                                                                \r"
     ]
    },
    {
     "name": "stdout",
     "output_type": "stream",
     "text": [
      "✅ Loaded 359,847 records from s3a://twitch-emotes-analytics-project/data/processed/esl_dota2/2024/*.parquet\n",
      "🛠 Flattening array columns for CSV compatibility...\n",
      "📤 Writing full Parquet dataset to: s3a://twitch-emotes-analytics-project/data/gold/esl_dota2/2024/all_data_parquet\n"
     ]
    },
    {
     "name": "stderr",
     "output_type": "stream",
     "text": [
      "                                                                                \r"
     ]
    },
    {
     "name": "stdout",
     "output_type": "stream",
     "text": [
      "📤 Writing CSV-friendly dataset to: s3a://twitch-emotes-analytics-project/data/gold/esl_dota2/2024/all_data_csv\n"
     ]
    },
    {
     "name": "stderr",
     "output_type": "stream",
     "text": [
      "25/06/23 19:28:17 WARN AbstractS3ACommitterFactory: Using standard FileOutputCommitter to commit work. This is slow and potentially unsafe.\n",
      "25/06/23 19:28:20 WARN AbstractS3ACommitterFactory: Using standard FileOutputCommitter to commit work. This is slow and potentially unsafe.\n",
      "                                                                                \r"
     ]
    },
    {
     "name": "stdout",
     "output_type": "stream",
     "text": [
      "✅ Finished writing all data for 2024 🎉\n",
      "\n",
      "🏁 All requested years processed. Data exported to S3 Gold layer.\n"
     ]
    }
   ],
   "source": [
    "from pyspark.sql import SparkSession\n",
    "from pyspark.sql.functions import concat_ws\n",
    "\n",
    "# Step 1: Initialize Spark Session with Hadoop-AWS connector\n",
    "print(\"🚀 Initializing Spark session...\")\n",
    "spark = SparkSession.builder \\\n",
    "    .appName(\"ConnectToS3\") \\\n",
    "    .config(\"spark.jars.packages\", \"org.apache.hadoop:hadoop-aws:3.3.1\") \\\n",
    "    .getOrCreate()\n",
    "\n",
    "# Step 2: Configure Spark to use s3a and AWS credentials\n",
    "print(\"🔐 Configuring Spark to use AWS credentials...\")\n",
    "hadoop_conf = spark._jsc.hadoopConfiguration()\n",
    "hadoop_conf.set(\"fs.s3a.impl\", \"org.apache.hadoop.fs.s3a.S3AFileSystem\")\n",
    "hadoop_conf.set(\"fs.s3a.aws.credentials.provider\", \"com.amazonaws.auth.profile.ProfileCredentialsProvider\")\n",
    "hadoop_conf.set(\"fs.s3a.endpoint\", \"s3.us-west-2.amazonaws.com\") \n",
    "\n",
    "# Step 3: Get list of years from user\n",
    "years_input = input(\"📅 Please enter years to process (comma-separated, e.g. 2021,2022,2023): \")\n",
    "years = [year.strip() for year in years_input.split(\",\")]\n",
    "channel_name = \"esl_dota2\"\n",
    "\n",
    "# Step 4: Loop through each year\n",
    "for chat_year in years:\n",
    "    print(f\"\\n📦 Processing year {chat_year} for channel '{channel_name}'...\")\n",
    "\n",
    "    # Read from S3 bucket\n",
    "    parquet_files_path = f\"s3a://twitch-emotes-analytics-project/data/processed_silver/{channel_name}/{chat_year}/*.parquet\"\n",
    "    try:\n",
    "        df = spark.read.parquet(parquet_files_path)\n",
    "        record_count = df.count()\n",
    "        print(f\"✅ Loaded {record_count:,} records from {parquet_files_path}\")\n",
    "    except Exception as e:\n",
    "        print(f\"❌ Failed to read data for {chat_year}: {e}\")\n",
    "        continue\n",
    "\n",
    "    # Flatten array columns for CSV\n",
    "    print(\"🛠 Flattening array columns for CSV compatibility...\")\n",
    "    df_csv = df.withColumn(\"i_badge_names\", concat_ws(\",\", \"i_badge_names\")) \\\n",
    "               .withColumn(\"i_badge_titles\", concat_ws(\",\", \"i_badge_titles\")) \\\n",
    "               .withColumn(\"i_badge_versions\", concat_ws(\",\", \"i_badge_versions\"))\n",
    "\n",
    "    # Define output paths\n",
    "    output_s3_path_parquet = f\"s3a://twitch-emotes-analytics-project/data/gold/{channel_name}/{chat_year}/all_data_parquet\"\n",
    "    output_s3_path_csv = f\"s3a://twitch-emotes-analytics-project/data/gold/{channel_name}/{chat_year}/all_data_csv\"\n",
    "\n",
    "    # Write Parquet output\n",
    "    print(f\"📤 Writing full Parquet dataset to: {output_s3_path_parquet}\")\n",
    "    df.coalesce(1).write.mode(\"overwrite\").parquet(output_s3_path_parquet)\n",
    "\n",
    "    # Write CSV output\n",
    "    print(f\"📤 Writing CSV-friendly dataset to: {output_s3_path_csv}\")\n",
    "    df_csv.coalesce(1).write.mode(\"overwrite\").option(\"header\", True).csv(output_s3_path_csv)\n",
    "\n",
    "    print(f\"✅ Finished writing all data for {chat_year} 🎉\")\n",
    "\n",
    "print(\"\\n🏁 All requested years processed. Data exported to S3 Gold layer.\")\n"
   ]
  }
 ],
 "metadata": {
  "kernelspec": {
   "display_name": "Python 3 (ipykernel)",
   "language": "python",
   "name": "python3"
  },
  "language_info": {
   "codemirror_mode": {
    "name": "ipython",
    "version": 3
   },
   "file_extension": ".py",
   "mimetype": "text/x-python",
   "name": "python",
   "nbconvert_exporter": "python",
   "pygments_lexer": "ipython3",
   "version": "3.12.4"
  }
 },
 "nbformat": 4,
 "nbformat_minor": 5
}
