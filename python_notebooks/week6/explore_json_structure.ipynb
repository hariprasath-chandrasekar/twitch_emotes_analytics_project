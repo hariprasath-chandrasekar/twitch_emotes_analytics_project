{
 "cells": [
  {
   "cell_type": "code",
   "execution_count": 9,
   "id": "b6207209-1746-4589-b93c-6767b642af6d",
   "metadata": {},
   "outputs": [
    {
     "name": "stdout",
     "output_type": "stream",
     "text": [
      "dev_download_raw_data_using_channelName_and_year.py\n",
      "dev_etl_pipeline1_json_to_parquet.ipynb\n",
      "dev_etl_pipeline1_json_to_parquet.py\n",
      "dev_etl_pipeline2_merge_all_streams_per_year.ipynb\n",
      "explore_Untitled.ipynb\n",
      "explore_check_schema_and_records_count_of_processed_files.ipynb\n",
      "explore_json_structure.ipynb\n"
     ]
    }
   ],
   "source": [
    "ls"
   ]
  },
  {
   "cell_type": "code",
   "execution_count": 10,
   "id": "bfce4ba5-8ec2-4e26-aafa-3a2797427783",
   "metadata": {},
   "outputs": [],
   "source": [
    "file_path = \"/Users/hari14/Desktop/PHD/twitch_emotes_analytics_project/data/raw_bronze/esl_dota2/esl_dota2_2020_33.json\""
   ]
  },
  {
   "cell_type": "code",
   "execution_count": 11,
   "id": "ef6a23fe-f7cc-4964-aaa0-b2ea9f0a9866",
   "metadata": {},
   "outputs": [],
   "source": [
    "import json"
   ]
  },
  {
   "cell_type": "code",
   "execution_count": 12,
   "id": "5ea74406-88be-4c02-9bfa-ac474835276e",
   "metadata": {},
   "outputs": [],
   "source": [
    "with open(file_path, \"r\") as f:\n",
    "    data = json.load(f)"
   ]
  },
  {
   "cell_type": "code",
   "execution_count": 13,
   "id": "ac2956c1-a456-425a-ba6b-6c279d8b4757",
   "metadata": {},
   "outputs": [
    {
     "data": {
      "text/plain": [
       "list"
      ]
     },
     "execution_count": 13,
     "metadata": {},
     "output_type": "execute_result"
    }
   ],
   "source": [
    "type(data)"
   ]
  },
  {
   "cell_type": "code",
   "execution_count": 20,
   "id": "3593c08a-0ed7-454a-af4b-093de7f2512b",
   "metadata": {},
   "outputs": [
    {
     "data": {
      "text/plain": [
       "{'author': {'badges': [{'clickAction': 'VISIT_URL',\n",
       "    'clickURL': 'https://gaming.amazon.com',\n",
       "    'icons': [{'height': 18,\n",
       "      'id': '18x18',\n",
       "      'url': 'https://static-cdn.jtvnw.net/badges/v1/bbbe0db0-a598-423e-86d0-f9fb98ca1933/1',\n",
       "      'width': 18},\n",
       "     {'height': 36,\n",
       "      'id': '36x36',\n",
       "      'url': 'https://static-cdn.jtvnw.net/badges/v1/bbbe0db0-a598-423e-86d0-f9fb98ca1933/2',\n",
       "      'width': 36},\n",
       "     {'height': 72,\n",
       "      'id': '72x72',\n",
       "      'url': 'https://static-cdn.jtvnw.net/badges/v1/bbbe0db0-a598-423e-86d0-f9fb98ca1933/3',\n",
       "      'width': 72}],\n",
       "    'name': 'premium',\n",
       "    'title': 'Prime Gaming',\n",
       "    'version': 1}],\n",
       "  'display_name': 's0briety',\n",
       "  'id': '477749503',\n",
       "  'name': 's0briety'},\n",
       " 'message': 'There was no Game before?',\n",
       " 'message_id': '7db4f14b-d9b4-48bd-8e30-9355d3c18809',\n",
       " 'message_type': 'text_message',\n",
       " 'time_in_seconds': 146,\n",
       " 'time_text': '2:26',\n",
       " 'timestamp': 1603529102935000}"
      ]
     },
     "execution_count": 20,
     "metadata": {},
     "output_type": "execute_result"
    }
   ],
   "source": [
    "e = data[5][\"author\"]\n",
    "e"
   ]
  },
  {
   "cell_type": "code",
   "execution_count": null,
   "id": "60e50213-23af-47f5-999a-2cee1143b3b6",
   "metadata": {},
   "outputs": [],
   "source": [
    "e"
   ]
  },
  {
   "cell_type": "code",
   "execution_count": null,
   "id": "a2636f8d-c375-46f7-be6a-7b4a063fdeae",
   "metadata": {},
   "outputs": [],
   "source": [
    "data"
   ]
  },
  {
   "cell_type": "code",
   "execution_count": null,
   "id": "cfdf06b7-2c12-4ed0-b45d-ca381144e6df",
   "metadata": {},
   "outputs": [],
   "source": []
  }
 ],
 "metadata": {
  "kernelspec": {
   "display_name": "Python 3 (ipykernel)",
   "language": "python",
   "name": "python3"
  },
  "language_info": {
   "codemirror_mode": {
    "name": "ipython",
    "version": 3
   },
   "file_extension": ".py",
   "mimetype": "text/x-python",
   "name": "python",
   "nbconvert_exporter": "python",
   "pygments_lexer": "ipython3",
   "version": "3.12.4"
  }
 },
 "nbformat": 4,
 "nbformat_minor": 5
}
