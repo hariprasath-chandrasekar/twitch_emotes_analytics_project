{
 "cells": [
  {
   "cell_type": "code",
   "execution_count": 1,
   "id": "d5991d42-74ff-47ff-b9b4-299044b2e822",
   "metadata": {},
   "outputs": [
    {
     "name": "stdout",
     "output_type": "stream",
     "text": [
      "🚀 Initializing Spark session...\n"
     ]
    },
    {
     "name": "stderr",
     "output_type": "stream",
     "text": [
      "25/06/24 10:40:52 WARN Utils: Your hostname, Hariprasaths-MacBook-Air.local resolves to a loopback address: 127.0.0.1; using 192.168.1.8 instead (on interface en0)\n",
      "25/06/24 10:40:52 WARN Utils: Set SPARK_LOCAL_IP if you need to bind to another address\n",
      "Ivy Default Cache set to: /Users/hari14/.ivy2/cache\n",
      "The jars for the packages stored in: /Users/hari14/.ivy2/jars\n",
      "org.apache.hadoop#hadoop-aws added as a dependency\n",
      ":: resolving dependencies :: org.apache.spark#spark-submit-parent-58c10ce6-7f20-47a0-bbf9-03ff1d9eb0fa;1.0\n",
      "\tconfs: [default]\n"
     ]
    },
    {
     "name": "stdout",
     "output_type": "stream",
     "text": [
      ":: loading settings :: url = jar:file:/opt/spark-3.3.3/jars/ivy-2.5.1.jar!/org/apache/ivy/core/settings/ivysettings.xml\n"
     ]
    },
    {
     "name": "stderr",
     "output_type": "stream",
     "text": [
      "\tfound org.apache.hadoop#hadoop-aws;3.3.1 in central\n",
      "\tfound com.amazonaws#aws-java-sdk-bundle;1.11.901 in central\n",
      "\tfound org.wildfly.openssl#wildfly-openssl;1.0.7.Final in central\n",
      ":: resolution report :: resolve 109ms :: artifacts dl 3ms\n",
      "\t:: modules in use:\n",
      "\tcom.amazonaws#aws-java-sdk-bundle;1.11.901 from central in [default]\n",
      "\torg.apache.hadoop#hadoop-aws;3.3.1 from central in [default]\n",
      "\torg.wildfly.openssl#wildfly-openssl;1.0.7.Final from central in [default]\n",
      "\t---------------------------------------------------------------------\n",
      "\t|                  |            modules            ||   artifacts   |\n",
      "\t|       conf       | number| search|dwnlded|evicted|| number|dwnlded|\n",
      "\t---------------------------------------------------------------------\n",
      "\t|      default     |   3   |   0   |   0   |   0   ||   3   |   0   |\n",
      "\t---------------------------------------------------------------------\n",
      ":: retrieving :: org.apache.spark#spark-submit-parent-58c10ce6-7f20-47a0-bbf9-03ff1d9eb0fa\n",
      "\tconfs: [default]\n",
      "\t0 artifacts copied, 3 already retrieved (0kB/3ms)\n",
      "25/06/24 10:40:53 WARN NativeCodeLoader: Unable to load native-hadoop library for your platform... using builtin-java classes where applicable\n",
      "Setting default log level to \"WARN\".\n",
      "To adjust logging level use sc.setLogLevel(newLevel). For SparkR, use setLogLevel(newLevel).\n"
     ]
    },
    {
     "name": "stdout",
     "output_type": "stream",
     "text": [
      "🔐 Configuring Spark to use AWS credentials...\n"
     ]
    }
   ],
   "source": [
    "from pyspark.sql import SparkSession\n",
    "from pyspark.sql.functions import concat_ws\n",
    "\n",
    "# Step 1: Initialize Spark Session with Hadoop-AWS connector\n",
    "print(\"🚀 Initializing Spark session...\")\n",
    "spark = SparkSession.builder \\\n",
    "    .appName(\"ConnectToS3\") \\\n",
    "    .config(\"spark.jars.packages\", \"org.apache.hadoop:hadoop-aws:3.3.1\") \\\n",
    "    .getOrCreate()\n",
    "\n",
    "# Step 2: Configure Spark to use s3a and AWS credentials\n",
    "print(\"🔐 Configuring Spark to use AWS credentials...\")\n",
    "hadoop_conf = spark._jsc.hadoopConfiguration()\n",
    "hadoop_conf.set(\"fs.s3a.impl\", \"org.apache.hadoop.fs.s3a.S3AFileSystem\")\n",
    "hadoop_conf.set(\"fs.s3a.aws.credentials.provider\", \"com.amazonaws.auth.profile.ProfileCredentialsProvider\")\n",
    "hadoop_conf.set(\"fs.s3a.endpoint\", \"s3.us-west-2.amazonaws.com\") \n"
   ]
  },
  {
   "cell_type": "code",
   "execution_count": 2,
   "id": "0e41f865-f51a-409d-82cb-8dee4e8d1fd9",
   "metadata": {},
   "outputs": [
    {
     "name": "stdin",
     "output_type": "stream",
     "text": [
      "📅 Please enter years to process (comma-separated, e.g. 2021,2022,2023):  2021,2022,2023,2024,2025\n"
     ]
    }
   ],
   "source": [
    "# Step 3: Get list of years from user\n",
    "years_input = input(\"📅 Please enter years to process (comma-separated, e.g. 2021,2022,2023): \")\n",
    "years = [year.strip() for year in years_input.split(\",\")]\n",
    "channel_name = \"esl_dota2\"\n"
   ]
  },
  {
   "cell_type": "code",
   "execution_count": 5,
   "id": "d88d1280-889b-40af-886f-879569123bf1",
   "metadata": {},
   "outputs": [
    {
     "name": "stdout",
     "output_type": "stream",
     "text": [
      "\n",
      "📁 Checking schema for year 2021...\n"
     ]
    },
    {
     "name": "stderr",
     "output_type": "stream",
     "text": [
      "                                                                                \r"
     ]
    },
    {
     "name": "stdout",
     "output_type": "stream",
     "text": [
      "Total records - (2021): 295479\n",
      "root\n",
      " |-- i_user_id: long (nullable = true)\n",
      " |-- i_username: string (nullable = true)\n",
      " |-- i_display_color: string (nullable = true)\n",
      " |-- i_badge_names: array (nullable = true)\n",
      " |    |-- element: string (containsNull = true)\n",
      " |-- i_badge_titles: array (nullable = true)\n",
      " |    |-- element: string (containsNull = true)\n",
      " |-- i_badge_versions: array (nullable = true)\n",
      " |    |-- element: string (containsNull = true)\n",
      " |-- i_user_status: string (nullable = true)\n",
      " |-- j_streamer: string (nullable = true)\n",
      " |-- k_emote_name: string (nullable = true)\n",
      " |-- t_timestamp: timestamp (nullable = true)\n",
      " |-- t_time_text: string (nullable = true)\n",
      " |-- t_seconds: long (nullable = true)\n",
      "\n",
      "\n",
      "📁 Checking schema for year 2022...\n"
     ]
    },
    {
     "name": "stderr",
     "output_type": "stream",
     "text": [
      "                                                                                \r"
     ]
    },
    {
     "name": "stdout",
     "output_type": "stream",
     "text": [
      "Total records - (2022): 566898\n",
      "root\n",
      " |-- i_user_id: long (nullable = true)\n",
      " |-- i_username: string (nullable = true)\n",
      " |-- i_display_color: string (nullable = true)\n",
      " |-- i_badge_names: array (nullable = true)\n",
      " |    |-- element: string (containsNull = true)\n",
      " |-- i_badge_titles: array (nullable = true)\n",
      " |    |-- element: string (containsNull = true)\n",
      " |-- i_badge_versions: array (nullable = true)\n",
      " |    |-- element: string (containsNull = true)\n",
      " |-- i_user_status: string (nullable = true)\n",
      " |-- j_streamer: string (nullable = true)\n",
      " |-- k_emote_name: string (nullable = true)\n",
      " |-- t_timestamp: timestamp (nullable = true)\n",
      " |-- t_time_text: string (nullable = true)\n",
      " |-- t_seconds: long (nullable = true)\n",
      "\n",
      "\n",
      "📁 Checking schema for year 2023...\n"
     ]
    },
    {
     "name": "stderr",
     "output_type": "stream",
     "text": [
      "                                                                                \r"
     ]
    },
    {
     "name": "stdout",
     "output_type": "stream",
     "text": [
      "Total records - (2023): 617113\n",
      "root\n",
      " |-- i_user_id: long (nullable = true)\n",
      " |-- i_username: string (nullable = true)\n",
      " |-- i_display_color: string (nullable = true)\n",
      " |-- i_badge_names: array (nullable = true)\n",
      " |    |-- element: string (containsNull = true)\n",
      " |-- i_badge_titles: array (nullable = true)\n",
      " |    |-- element: string (containsNull = true)\n",
      " |-- i_badge_versions: array (nullable = true)\n",
      " |    |-- element: string (containsNull = true)\n",
      " |-- i_user_status: string (nullable = true)\n",
      " |-- j_streamer: string (nullable = true)\n",
      " |-- k_emote_name: string (nullable = true)\n",
      " |-- t_timestamp: timestamp (nullable = true)\n",
      " |-- t_time_text: string (nullable = true)\n",
      " |-- t_seconds: long (nullable = true)\n",
      "\n",
      "\n",
      "📁 Checking schema for year 2024...\n"
     ]
    },
    {
     "name": "stderr",
     "output_type": "stream",
     "text": [
      "                                                                                \r"
     ]
    },
    {
     "name": "stdout",
     "output_type": "stream",
     "text": [
      "Total records - (2024): 359847\n",
      "root\n",
      " |-- i_user_id: long (nullable = true)\n",
      " |-- i_username: string (nullable = true)\n",
      " |-- i_display_color: string (nullable = true)\n",
      " |-- i_badge_names: array (nullable = true)\n",
      " |    |-- element: string (containsNull = true)\n",
      " |-- i_badge_titles: array (nullable = true)\n",
      " |    |-- element: string (containsNull = true)\n",
      " |-- i_badge_versions: array (nullable = true)\n",
      " |    |-- element: string (containsNull = true)\n",
      " |-- i_user_status: string (nullable = true)\n",
      " |-- j_streamer: string (nullable = true)\n",
      " |-- k_emote_name: string (nullable = true)\n",
      " |-- t_timestamp: timestamp (nullable = true)\n",
      " |-- t_time_text: string (nullable = true)\n",
      " |-- t_seconds: long (nullable = true)\n",
      "\n",
      "\n",
      "📁 Checking schema for year 2025...\n"
     ]
    },
    {
     "name": "stderr",
     "output_type": "stream",
     "text": [
      "[Stage 42:>                                                         (0 + 2) / 2]\r"
     ]
    },
    {
     "name": "stdout",
     "output_type": "stream",
     "text": [
      "Total records - (2025): 175534\n",
      "root\n",
      " |-- i_user_id: long (nullable = true)\n",
      " |-- i_username: string (nullable = true)\n",
      " |-- i_display_color: string (nullable = true)\n",
      " |-- i_badge_names: array (nullable = true)\n",
      " |    |-- element: string (containsNull = true)\n",
      " |-- i_badge_titles: array (nullable = true)\n",
      " |    |-- element: string (containsNull = true)\n",
      " |-- i_badge_versions: array (nullable = true)\n",
      " |    |-- element: string (containsNull = true)\n",
      " |-- i_user_status: string (nullable = true)\n",
      " |-- j_streamer: string (nullable = true)\n",
      " |-- k_emote_name: string (nullable = true)\n",
      " |-- t_timestamp: timestamp (nullable = true)\n",
      " |-- t_time_text: string (nullable = true)\n",
      " |-- t_seconds: long (nullable = true)\n",
      "\n"
     ]
    },
    {
     "name": "stderr",
     "output_type": "stream",
     "text": [
      "                                                                                \r"
     ]
    }
   ],
   "source": [
    "# Step 4: Loop through years and check schema\n",
    "for year in years:\n",
    "    print(f\"\\n📁 Checking schema for year {year}...\")\n",
    "    path = f\"s3a://twitch-emotes-analytics-project/data/gold/{channel_name}/{year}/all_data_parquet\"\n",
    "    try:\n",
    "        df = spark.read.parquet(path)\n",
    "        print(f\"Total records - ({year}): {df.count()}\")\n",
    "        df.printSchema()\n",
    "    except Exception as e:\n",
    "        print(f\"❌ Failed to read schema for {year}: {e}\")"
   ]
  },
  {
   "cell_type": "code",
   "execution_count": null,
   "id": "8f7d4a7d-9027-4051-9a05-3eb8c00f4260",
   "metadata": {},
   "outputs": [],
   "source": []
  }
 ],
 "metadata": {
  "kernelspec": {
   "display_name": "Python 3 (ipykernel)",
   "language": "python",
   "name": "python3"
  },
  "language_info": {
   "codemirror_mode": {
    "name": "ipython",
    "version": 3
   },
   "file_extension": ".py",
   "mimetype": "text/x-python",
   "name": "python",
   "nbconvert_exporter": "python",
   "pygments_lexer": "ipython3",
   "version": "3.12.4"
  }
 },
 "nbformat": 4,
 "nbformat_minor": 5
}
