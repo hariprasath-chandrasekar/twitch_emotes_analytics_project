{
 "cells": [
  {
   "cell_type": "code",
   "execution_count": 21,
   "id": "8c512111-939b-4e22-81a9-63cee082fed7",
   "metadata": {},
   "outputs": [],
   "source": [
    "import json\n",
    "import pandas as pd"
   ]
  },
  {
   "cell_type": "code",
   "execution_count": 22,
   "id": "5c1eeb01-aba0-4eac-ad83-7f6b89dda9b3",
   "metadata": {},
   "outputs": [],
   "source": [
    "all_raw_json_files = [\n",
    " 'esl_dota2_dream_league_26_day_1_chat.json',\n",
    " 'esl_dota2_dream_league_26_day_2_chat.json',\n",
    " 'esl_dota2_dream_league_26_day_3_chat.json',\n",
    " 'esl_dota2_dream_league_26_day_4_chat.json',\n",
    " 'esl_dota2_dream_league_26_day_5_chat.json',\n",
    " 'esl_dota2_dream_league_26_day_6_chat.json',\n",
    " 'esl_dota2_dream_league_26_day_7_chat.json',\n",
    " 'esl_dota2_dream_league_26_day_8_chat.json',\n",
    " 'esl_dota2_dream_league_26_day_9_chat.json',\n",
    " 'esl_dota2_dream_league_26_day_10_chat.json',\n",
    " 'esl_dota2_dream_league_26_day_11_chat.json',\n",
    " 'esl_dota2_dream_league_26_day_12_chat.json',\n",
    " 'esl_dota2_dream_league_26_day_13_chat.json',\n",
    " 'esl_dota2_dream_league_26_day_14_chat.json'\n",
    "]"
   ]
  },
  {
   "cell_type": "code",
   "execution_count": 24,
   "id": "8f21feb4-4407-44b5-98b0-190f7ae9d2a5",
   "metadata": {
    "scrolled": true
   },
   "outputs": [
    {
     "name": "stdout",
     "output_type": "stream",
     "text": [
      "✅ Saved file esl_dota2_dream_league_26_day_1_emote_panel.csv with 1992 emote records\n",
      "✅ Saved file esl_dota2_dream_league_26_day_2_emote_panel.csv with 1837 emote records\n",
      "✅ Saved file esl_dota2_dream_league_26_day_3_emote_panel.csv with 2687 emote records\n",
      "✅ Saved file esl_dota2_dream_league_26_day_4_emote_panel.csv with 1986 emote records\n",
      "✅ Saved file esl_dota2_dream_league_26_day_5_emote_panel.csv with 4498 emote records\n",
      "✅ Saved file esl_dota2_dream_league_26_day_6_emote_panel.csv with 5989 emote records\n",
      "✅ Saved file esl_dota2_dream_league_26_day_7_emote_panel.csv with 6128 emote records\n",
      "✅ Saved file esl_dota2_dream_league_26_day_8_emote_panel.csv with 5598 emote records\n",
      "✅ Saved file esl_dota2_dream_league_26_day_9_emote_panel.csv with 5966 emote records\n",
      "✅ Saved file esl_dota2_dream_league_26_day_10_emote_panel.csv with 5940 emote records\n",
      "✅ Saved file esl_dota2_dream_league_26_day_11_emote_panel.csv with 6252 emote records\n",
      "✅ Saved file esl_dota2_dream_league_26_day_12_emote_panel.csv with 3770 emote records\n",
      "✅ Saved file esl_dota2_dream_league_26_day_13_emote_panel.csv with 3208 emote records\n",
      "✅ Saved file esl_dota2_dream_league_26_day_14_emote_panel.csv with 4383 emote records\n"
     ]
    }
   ],
   "source": [
    "for day_number, json_file in enumerate(all_raw_json_files, start = 1):\n",
    "    # set input file path\n",
    "    input_file_path = json_file\n",
    "    output_file_path = f\"esl_dota2_dream_league_26_day_{day_number}_emote_panel.csv\"\n",
    "    # load chat data\n",
    "    with open(input_file_path, \"r\") as f:\n",
    "        chat_data = json.load(f)\n",
    "    emote_records= []\n",
    "    for msg in chat_data:\n",
    "        emotes = msg.get(\"emotes\",[])\n",
    "        if not emotes:\n",
    "            continue\n",
    "        author = msg.get(\"author\", {})\n",
    "        user_id = author.get(\"id\", \"\")\n",
    "        user_name = author.get(\"name\",\"\")\n",
    "        color = author.get(\"colour\", None)\n",
    "        badges = author.get(\"badges\",[])\n",
    "        timestamp = pd.to_datetime(msg.get(\"timestamp\"), unit=\"us\", errors=\"coerce\")\n",
    "        time_text = msg.get(\"time_text\",\"\")\n",
    "        seconds = msg.get(\"time_in_seconds\")\n",
    "        message = msg.get(\"message\", \"\") \n",
    "        for emote in emotes:\n",
    "            emote_records.append({\n",
    "                \"i_user_id\": user_id,\n",
    "                \"i_username\": user_name,\n",
    "                \"i_display_color\": color,\n",
    "                \"i_badges\": badges,\n",
    "                \"j_streamer\": \"esl_dota2\",\n",
    "                \"k_emote_name\": emote.get(\"name\", \"\"),\n",
    "                \"t_timestamp\": timestamp,\n",
    "                \"t_time_text\": time_text,\n",
    "                \"t_seconds\": seconds,\n",
    "                \"message\": message\n",
    "                })\n",
    "    df_panel = pd.DataFrame(emote_records) \n",
    "    df_panel.to_csv(output_file_path, index = False)\n",
    "    print(f\"✅ Saved file {output_file_path} with {len(df_panel)} emote records\")"
   ]
  },
  {
   "cell_type": "code",
   "execution_count": 58,
   "id": "afcd8180-3c71-4ed7-a91e-f6f9c7dd82ef",
   "metadata": {},
   "outputs": [],
   "source": [
    "# validate files written\n",
    "day1 = pd.read_csv(\"esl_dota2_dream_league_26_day_1_emote_panel.csv\")\n",
    "day2 = pd.read_csv(\"esl_dota2_dream_league_26_day_2_emote_panel.csv\")\n",
    "day3 = pd.read_csv(\"esl_dota2_dream_league_26_day_3_emote_panel.csv\")\n",
    "day4 = pd.read_csv(\"esl_dota2_dream_league_26_day_4_emote_panel.csv\")\n",
    "day5 = pd.read_csv(\"esl_dota2_dream_league_26_day_5_emote_panel.csv\")\n",
    "day6 = pd.read_csv(\"esl_dota2_dream_league_26_day_6_emote_panel.csv\")\n",
    "day7 = pd.read_csv(\"esl_dota2_dream_league_26_day_7_emote_panel.csv\")\n",
    "day8 = pd.read_csv(\"esl_dota2_dream_league_26_day_8_emote_panel.csv\")\n",
    "day9 = pd.read_csv(\"esl_dota2_dream_league_26_day_9_emote_panel.csv\")\n",
    "day10 = pd.read_csv(\"esl_dota2_dream_league_26_day_10_emote_panel.csv\")\n",
    "day11 = pd.read_csv(\"esl_dota2_dream_league_26_day_11_emote_panel.csv\")\n",
    "day12 = pd.read_csv(\"esl_dota2_dream_league_26_day_12_emote_panel.csv\")\n",
    "day13 = pd.read_csv(\"esl_dota2_dream_league_26_day_13_emote_panel.csv\")\n",
    "day14 = pd.read_csv(\"esl_dota2_dream_league_26_day_14_emote_panel.csv\")"
   ]
  },
  {
   "cell_type": "code",
   "execution_count": 59,
   "id": "40a0bee3-51b5-4ea3-b39d-53d3f58b8927",
   "metadata": {},
   "outputs": [],
   "source": [
    "all_dfs = [day1, day2, day3, day4, day5, day6, day7, day8, day9, day10, day11, day12, day13, day14]"
   ]
  },
  {
   "cell_type": "code",
   "execution_count": 60,
   "id": "dd459a98-ada4-4fa6-83ff-472af8b68464",
   "metadata": {},
   "outputs": [
    {
     "name": "stdout",
     "output_type": "stream",
     "text": [
      "1992|1837|2687|1986|4498|5989|6128|5598|5966|5940|6252|3770|3208|4383|\n",
      "Total records: 60234\n"
     ]
    }
   ],
   "source": [
    "tot_records = 0 \n",
    "for i in dfs:\n",
    "    tot_records += len(i)\n",
    "    print(len(i), end = \"|\")\n",
    "print(f\"\\nTotal records: {tot_records}\")    "
   ]
  },
  {
   "cell_type": "code",
   "execution_count": 61,
   "id": "51e7faa4-b017-4b71-8a91-fe69af5afa58",
   "metadata": {},
   "outputs": [],
   "source": [
    "df_master = pd.concat(all_dfs)"
   ]
  },
  {
   "cell_type": "code",
   "execution_count": 76,
   "id": "f4551449-cc6e-4b9f-bf9a-5cc58a00aabe",
   "metadata": {},
   "outputs": [],
   "source": [
    "df_master_clean = df_master.dropna(subset = [\"i_user_id\",\"k_emote_name\"])"
   ]
  },
  {
   "cell_type": "code",
   "execution_count": 79,
   "id": "ea97cac5-6ce7-459e-932a-61f5b185c88c",
   "metadata": {},
   "outputs": [],
   "source": [
    "df_master_clean.to_csv(\"esl_dota2_dream_league_26_emote_panel_v1.csv\", index= False)"
   ]
  }
 ],
 "metadata": {
  "kernelspec": {
   "display_name": "Python 3 (ipykernel)",
   "language": "python",
   "name": "python3"
  },
  "language_info": {
   "codemirror_mode": {
    "name": "ipython",
    "version": 3
   },
   "file_extension": ".py",
   "mimetype": "text/x-python",
   "name": "python",
   "nbconvert_exporter": "python",
   "pygments_lexer": "ipython3",
   "version": "3.12.4"
  }
 },
 "nbformat": 4,
 "nbformat_minor": 5
}
